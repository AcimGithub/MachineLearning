{
  "nbformat": 4,
  "nbformat_minor": 0,
  "metadata": {
    "colab": {
      "provenance": [],
      "gpuType": "T4",
      "authorship_tag": "ABX9TyPkywxv12UruTdgK1oKj74R",
      "include_colab_link": true
    },
    "kernelspec": {
      "name": "python3",
      "display_name": "Python 3"
    },
    "language_info": {
      "name": "python"
    },
    "accelerator": "GPU"
  },
  "cells": [
    {
      "cell_type": "markdown",
      "metadata": {
        "id": "view-in-github",
        "colab_type": "text"
      },
      "source": [
        "<a href=\"https://colab.research.google.com/github/AcimGithub/MachineLearning/blob/main/Jobsheet10.ipynb\" target=\"_parent\"><img src=\"https://colab.research.google.com/assets/colab-badge.svg\" alt=\"Open In Colab\"/></a>"
      ]
    },
    {
      "cell_type": "markdown",
      "source": [
        "> **Job Sheet 10 : Recurrent Neural Network (RNN)**\n",
        "*   Nama : Muhammad Lukman Hakim\n",
        "*   NIM : 2141720109\n"
      ],
      "metadata": {
        "id": "OxS70x-48vxx"
      }
    },
    {
      "cell_type": "markdown",
      "source": [
        "> # **Praktikum 1** *RNN untuk Analisis Sentimen*"
      ],
      "metadata": {
        "id": "P2WUlLDepD28"
      }
    },
    {
      "cell_type": "markdown",
      "source": [
        "**Setup**"
      ],
      "metadata": {
        "id": "jRUSXoj3pOR_"
      }
    },
    {
      "cell_type": "markdown",
      "source": [
        "*Impor matplotlib dan buat fungsi pembantu untuk memplot grafik:*"
      ],
      "metadata": {
        "id": "A76h3ayfpPx7"
      }
    },
    {
      "cell_type": "code",
      "execution_count": 1,
      "metadata": {
        "id": "praIp6UfoyB4"
      },
      "outputs": [],
      "source": [
        "import numpy as np\n",
        "import tensorflow_datasets as tfds\n",
        "import tensorflow as tf\n",
        "\n",
        "tfds.disable_progress_bar()"
      ]
    },
    {
      "cell_type": "code",
      "source": [
        "import matplotlib.pyplot as plt\n",
        "\n",
        "def plot_graphs(history, metric):\n",
        "    plt.plot(history.history[metric])\n",
        "    plt.plot(history.history['val_'+metric], '')\n",
        "    plt.xlabel(\"Epochs\")\n",
        "    plt.ylabel(metric)\n",
        "    plt.legend([metric, 'val_'+metric])"
      ],
      "metadata": {
        "id": "iyB7XZiVpXJZ"
      },
      "execution_count": 2,
      "outputs": []
    },
    {
      "cell_type": "markdown",
      "source": [
        "**Setup input pipeline**"
      ],
      "metadata": {
        "id": "ybuJYjBHpuH3"
      }
    },
    {
      "cell_type": "markdown",
      "source": [
        "*Dataset ulasan film IMDB adalah kumpulan data klasifikasi biner—semua ulasan memiliki sentimen positif atau negatif.*\n",
        "\n",
        "*Download dataset menggunakan TFDS. Lihat loading text tutorial jika ingin me load data secara manual*"
      ],
      "metadata": {
        "id": "dDEINwV_pvc8"
      }
    },
    {
      "cell_type": "code",
      "source": [
        "dataset, info = tfds.load('imdb_reviews', with_info=True,\n",
        "                          as_supervised=True)\n",
        "train_dataset, test_dataset = dataset['train'], dataset['test']\n",
        "\n",
        "train_dataset.element_spec"
      ],
      "metadata": {
        "colab": {
          "base_uri": "https://localhost:8080/"
        },
        "id": "xygt_oqnpz_e",
        "outputId": "bb3c655b-6e70-4f28-b74e-9548a9d4a0e5"
      },
      "execution_count": 3,
      "outputs": [
        {
          "output_type": "stream",
          "name": "stdout",
          "text": [
            "Downloading and preparing dataset 80.23 MiB (download: 80.23 MiB, generated: Unknown size, total: 80.23 MiB) to /root/tensorflow_datasets/imdb_reviews/plain_text/1.0.0...\n",
            "Dataset imdb_reviews downloaded and prepared to /root/tensorflow_datasets/imdb_reviews/plain_text/1.0.0. Subsequent calls will reuse this data.\n"
          ]
        },
        {
          "output_type": "execute_result",
          "data": {
            "text/plain": [
              "(TensorSpec(shape=(), dtype=tf.string, name=None),\n",
              " TensorSpec(shape=(), dtype=tf.int64, name=None))"
            ]
          },
          "metadata": {},
          "execution_count": 3
        }
      ]
    },
    {
      "cell_type": "markdown",
      "source": [
        "*Awalnya ini mengembalikan dataset (teks, pasangan label):*"
      ],
      "metadata": {
        "id": "4gNLMlE9p5F5"
      }
    },
    {
      "cell_type": "code",
      "source": [
        "for example, label in train_dataset.take(1):\n",
        "  print('text: ', example.numpy())\n",
        "  print('label: ', label.numpy())"
      ],
      "metadata": {
        "colab": {
          "base_uri": "https://localhost:8080/"
        },
        "id": "pszNlNN3p7SK",
        "outputId": "a9829831-62ca-4afd-d7e8-80d0bf9a10ec"
      },
      "execution_count": 4,
      "outputs": [
        {
          "output_type": "stream",
          "name": "stdout",
          "text": [
            "text:  b\"This was an absolutely terrible movie. Don't be lured in by Christopher Walken or Michael Ironside. Both are great actors, but this must simply be their worst role in history. Even their great acting could not redeem this movie's ridiculous storyline. This movie is an early nineties US propaganda piece. The most pathetic scenes were those when the Columbian rebels were making their cases for revolutions. Maria Conchita Alonso appeared phony, and her pseudo-love affair with Walken was nothing but a pathetic emotional plug in a movie that was devoid of any real meaning. I am disappointed that there are movies like this, ruining actor's like Christopher Walken's good name. I could barely sit through it.\"\n",
            "label:  0\n"
          ]
        }
      ]
    },
    {
      "cell_type": "markdown",
      "source": [
        "*Berikutnya acak data untuk pelatihan dan membuat kumpulan pasangan (teks, label) ini:*"
      ],
      "metadata": {
        "id": "VsMt_2CdqEj_"
      }
    },
    {
      "cell_type": "code",
      "source": [
        "BUFFER_SIZE = 10000\n",
        "BATCH_SIZE = 64\n",
        "\n",
        "train_dataset = train_dataset.shuffle(BUFFER_SIZE).batch(BATCH_SIZE).prefetch(tf.data.AUTOTUNE)\n",
        "test_dataset = test_dataset.batch(BATCH_SIZE).prefetch(tf.data.AUTOTUNE)\n",
        "\n",
        "for example, label in train_dataset.take(1):\n",
        "  print('texts: ', example.numpy()[:3])\n",
        "  print()\n",
        "  print('labels: ', label.numpy()[:3])"
      ],
      "metadata": {
        "colab": {
          "base_uri": "https://localhost:8080/"
        },
        "id": "HpGQuVM2qH_l",
        "outputId": "893bc298-21a4-491b-e58c-c6cf36c4d8c3"
      },
      "execution_count": 5,
      "outputs": [
        {
          "output_type": "stream",
          "name": "stdout",
          "text": [
            "texts:  [b\"Its a shame she didn't get screen credit , she by far did the best job in the film has the girl on the cross , best part of the movie .She had much more impact than Avril , or just about anyone else in the film . She almost made S/M look like fun ! She really was believable has the S/M model that gets scared of her situation . Although they seem to really have messed up that sort of dreamy feeling of looking for the bad guy , Those sets were very well built but they just sort of skimmed the surface of what was shot . This is one film were both cuts should be made available. It seems they left out a lot of what was shot , and almost all of the really dark stuff that would have made the film much more demented . Its kind of like they stopped short of the mark they were going for during filming . What was shot would not have gotten a R rating probably a NC-17 or X , but that is what it would have needed to make the film they way it should have been .\"\n",
            " b'This movie is ridiculous! That\\'s exactly what I like about this piece of \"Guilty Pleasure\". It is easy to condemn this movie for not including Pat Priest and Butch Patrick, the original Marilyn and Eddie. But look at the year and do the math. Pat Priest and Butch Patrick had long outgrown their parts! Time does that to young stars. Yvonne De Carlo, who re-prised her role as Lili, was pushing the Big 6-0 (even though she still looked good and was still the perfect \"Lili\").<br /><br />It\\'s a shame that Yvonne De Carlo wasn\\'t given a larger part. Still, it was good to see Fred Gwynne and Al Lewis in the roles that made them so famous! During the 2 seasons that THE MUNSTERS was on prime time, it was the Gwynne/Lewis chemistry that made the series such a success. The rest of the cast were supporting cast members, not to say that they weren\\'t needed. They were! The TV series wouldn\\'t had survived as long as it did without them. Given the choice between Butch Patrick or Happy Derman (the original \"Eddie\"), the choice was too easy. Yvonne De Carlo was also the better choice over Joan Marshall.<br /><br />Though this movie doesn\\'t measure up to the original TV series, it still measures up nicely and is one of the better \"reunuin\" TV specials that plagued the boob-tube during the late 1970s/early 1980s.<br /><br />\\''\n",
            " b\"Full House is a great show. I am still today growing up on it. I started watching it when i was 8 and now i am 12 and still watching it. i fell in love with all of the characters, especially Stephanie. she is my favorite. she had such a sense of humor. in case there are people on this sight that hardly watch the show, you should because you will get hooked on it. i became hooked on it after the first show i saw, which just happened to be the first episode, in 2002. it really is a good show. i really think that this show should go down to many generations in families. and it's great too because it is an appropriate show for all ages. and for all parents, it teaches kids lessons on how to go on with their life. nothing terrible happens, like violence or swearing. it is just a really great sit-com. i give it 5 out of 5 stars. what do you think? OH and the best time to watch it is when you are home sick from school or even the old office. It will make you feel a lot better. Trust me i am hardly home sick but i still know that it will make you feel better. and to everybody that thinks the show is stupid, well that's too bad for you because you won't get as far in life even if you are happy with your life. you really should watch it and you will get hooked on it. i am just telling you what happened to me and everybody else that started watching this awesome show. well i need must go to have some lunch. remember you must start watching full house and soon!\"]\n",
            "\n",
            "labels:  [1 1 1]\n"
          ]
        }
      ]
    },
    {
      "cell_type": "markdown",
      "source": [
        "**Buat Teks Encoder**"
      ],
      "metadata": {
        "id": "xMasXt3SqOOW"
      }
    },
    {
      "cell_type": "markdown",
      "source": [
        "*Teks mentah yang dimuat oleh tfds perlu diproses sebelum dapat digunakan dalam model. Cara termudah memproses teks untuk pelatihan adalah menggunakan lapisan TextVectorization. Lapisan ini memiliki banyak kemampuan, namun pada tutorial ini menggunakan perilaku default. Buat lapisan tersebut, dan teruskan teks kumpulan data ke metode .adapt lapisan:*"
      ],
      "metadata": {
        "id": "YFuhhDe9qQWw"
      }
    },
    {
      "cell_type": "code",
      "source": [
        "VOCAB_SIZE = 1000\n",
        "encoder = tf.keras.layers.TextVectorization(\n",
        "    max_tokens=VOCAB_SIZE)\n",
        "encoder.adapt(train_dataset.map(lambda text, label: text))"
      ],
      "metadata": {
        "id": "WV-zHIUmqSRL"
      },
      "execution_count": 6,
      "outputs": []
    },
    {
      "cell_type": "markdown",
      "source": [
        "*Metode .adapt mengatur kosakata lapisan. 20 token pertama dapat dilihat dengan kode berikut. Setelah padding dan token yang tidak diketahui, mereka diurutkan berdasarkan frekuensi:*"
      ],
      "metadata": {
        "id": "QawmcyJkqUhA"
      }
    },
    {
      "cell_type": "code",
      "source": [
        "vocab = np.array(encoder.get_vocabulary())\n",
        "vocab[:20]"
      ],
      "metadata": {
        "colab": {
          "base_uri": "https://localhost:8080/"
        },
        "id": "TNQc5LuzqWOZ",
        "outputId": "7fad02a0-0eca-4e51-ca20-c139917ef59b"
      },
      "execution_count": 7,
      "outputs": [
        {
          "output_type": "execute_result",
          "data": {
            "text/plain": [
              "array(['', '[UNK]', 'the', 'and', 'a', 'of', 'to', 'is', 'in', 'it', 'i',\n",
              "       'this', 'that', 'br', 'was', 'as', 'for', 'with', 'movie', 'but'],\n",
              "      dtype='<U14')"
            ]
          },
          "metadata": {},
          "execution_count": 7
        }
      ]
    },
    {
      "cell_type": "markdown",
      "source": [
        "*Setelah kosakata diatur, lapisan dapat mengkodekan teks ke dalam indeks. Tensor indeks diberi bantalan 0 ke urutan terpanjang dalam batch (kecuali jika Anda menetapkan output_sequence_length tetap):*"
      ],
      "metadata": {
        "id": "kSq1bgsCqd3d"
      }
    },
    {
      "cell_type": "code",
      "source": [
        "encoded_example = encoder(example)[:3].numpy()\n",
        "encoded_example"
      ],
      "metadata": {
        "colab": {
          "base_uri": "https://localhost:8080/"
        },
        "id": "MiWUOuNrqhTW",
        "outputId": "f4026440-3c99-4480-cffa-b55fd6bc4db6"
      },
      "execution_count": 8,
      "outputs": [
        {
          "output_type": "execute_result",
          "data": {
            "text/plain": [
              "array([[ 30,   4, 896, ...,   0,   0,   0],\n",
              "       [ 11,  18,   7, ...,   0,   0,   0],\n",
              "       [371, 313,   7, ...,   0,   0,   0]])"
            ]
          },
          "metadata": {},
          "execution_count": 8
        }
      ]
    },
    {
      "cell_type": "markdown",
      "source": [
        "*Dengan pengaturan default, prosesnya tidak dapat dibalik sepenuhnya. Ada dua alasan utama untuk itu:*\n",
        "\n",
        "*-Nilai default untuk argumen standarisasi preprocessing.TextVectorization adalah \"lower_and_strip_punctuation\".*\n",
        "\n",
        "*-Ukuran kosa kata yang terbatas dan kurangnya fallback berbasis karakter menghasilkan beberapa token yang tidak diketahui.*"
      ],
      "metadata": {
        "id": "x8Yxbl6Rql0k"
      }
    },
    {
      "cell_type": "code",
      "source": [
        "for n in range(3):\n",
        "  print(\"Original: \", example[n].numpy())\n",
        "  print(\"Round-trip: \", \" \".join(vocab[encoded_example[n]]))\n",
        "  print()"
      ],
      "metadata": {
        "colab": {
          "base_uri": "https://localhost:8080/"
        },
        "id": "wbOILDCnqtMb",
        "outputId": "75d4ee49-eeb5-4cb9-e13e-37c59be6ecf3"
      },
      "execution_count": 9,
      "outputs": [
        {
          "output_type": "stream",
          "name": "stdout",
          "text": [
            "Original:  b\"Its a shame she didn't get screen credit , she by far did the best job in the film has the girl on the cross , best part of the movie .She had much more impact than Avril , or just about anyone else in the film . She almost made S/M look like fun ! She really was believable has the S/M model that gets scared of her situation . Although they seem to really have messed up that sort of dreamy feeling of looking for the bad guy , Those sets were very well built but they just sort of skimmed the surface of what was shot . This is one film were both cuts should be made available. It seems they left out a lot of what was shot , and almost all of the really dark stuff that would have made the film much more demented . Its kind of like they stopped short of the mark they were going for during filming . What was shot would not have gotten a R rating probably a NC-17 or X , but that is what it would have needed to make the film they way it should have been .\"\n",
            "Round-trip:  its a shame she didnt get screen [UNK] she by far did the best job in the film has the girl on the [UNK] best part of the movie she had much more [UNK] than [UNK] or just about anyone else in the film she almost made [UNK] look like fun she really was believable has the [UNK] [UNK] that gets [UNK] of her situation although they seem to really have [UNK] up that sort of [UNK] feeling of looking for the bad guy those sets were very well [UNK] but they just sort of [UNK] the [UNK] of what was shot this is one film were both [UNK] should be made [UNK] it seems they left out a lot of what was shot and almost all of the really dark stuff that would have made the film much more [UNK] its kind of like they [UNK] short of the mark they were going for during [UNK] what was shot would not have [UNK] a [UNK] rating probably a [UNK] or [UNK] but that is what it would have needed to make the film they way it should have been                                                                                                                                                                                                                                                                                                                                                                                                                                                                                                                                                                                    \n",
            "\n",
            "Original:  b'This movie is ridiculous! That\\'s exactly what I like about this piece of \"Guilty Pleasure\". It is easy to condemn this movie for not including Pat Priest and Butch Patrick, the original Marilyn and Eddie. But look at the year and do the math. Pat Priest and Butch Patrick had long outgrown their parts! Time does that to young stars. Yvonne De Carlo, who re-prised her role as Lili, was pushing the Big 6-0 (even though she still looked good and was still the perfect \"Lili\").<br /><br />It\\'s a shame that Yvonne De Carlo wasn\\'t given a larger part. Still, it was good to see Fred Gwynne and Al Lewis in the roles that made them so famous! During the 2 seasons that THE MUNSTERS was on prime time, it was the Gwynne/Lewis chemistry that made the series such a success. The rest of the cast were supporting cast members, not to say that they weren\\'t needed. They were! The TV series wouldn\\'t had survived as long as it did without them. Given the choice between Butch Patrick or Happy Derman (the original \"Eddie\"), the choice was too easy. Yvonne De Carlo was also the better choice over Joan Marshall.<br /><br />Though this movie doesn\\'t measure up to the original TV series, it still measures up nicely and is one of the better \"reunuin\" TV specials that plagued the boob-tube during the late 1970s/early 1980s.<br /><br />\\''\n",
            "Round-trip:  this movie is ridiculous thats exactly what i like about this piece of [UNK] [UNK] it is easy to [UNK] this movie for not including [UNK] [UNK] and [UNK] [UNK] the original [UNK] and [UNK] but look at the year and do the [UNK] [UNK] [UNK] and [UNK] [UNK] had long [UNK] their parts time does that to young stars [UNK] de [UNK] who [UNK] her role as [UNK] was [UNK] the big [UNK] even though she still looked good and was still the perfect [UNK] br its a shame that [UNK] de [UNK] wasnt given a [UNK] part still it was good to see [UNK] [UNK] and [UNK] [UNK] in the roles that made them so famous during the 2 [UNK] that the [UNK] was on [UNK] time it was the [UNK] [UNK] that made the series such a [UNK] the rest of the cast were supporting cast [UNK] not to say that they [UNK] needed they were the tv series wouldnt had [UNK] as long as it did without them given the [UNK] between [UNK] [UNK] or happy [UNK] the original [UNK] the [UNK] was too easy [UNK] de [UNK] was also the better [UNK] over [UNK] [UNK] br though this movie doesnt [UNK] up to the original tv series it still [UNK] up [UNK] and is one of the better [UNK] tv [UNK] that [UNK] the [UNK] during the late [UNK] [UNK] br                                                                                                                                                                                                                                                                                                                                                                                                                                                                                                                                      \n",
            "\n",
            "Original:  b\"Full House is a great show. I am still today growing up on it. I started watching it when i was 8 and now i am 12 and still watching it. i fell in love with all of the characters, especially Stephanie. she is my favorite. she had such a sense of humor. in case there are people on this sight that hardly watch the show, you should because you will get hooked on it. i became hooked on it after the first show i saw, which just happened to be the first episode, in 2002. it really is a good show. i really think that this show should go down to many generations in families. and it's great too because it is an appropriate show for all ages. and for all parents, it teaches kids lessons on how to go on with their life. nothing terrible happens, like violence or swearing. it is just a really great sit-com. i give it 5 out of 5 stars. what do you think? OH and the best time to watch it is when you are home sick from school or even the old office. It will make you feel a lot better. Trust me i am hardly home sick but i still know that it will make you feel better. and to everybody that thinks the show is stupid, well that's too bad for you because you won't get as far in life even if you are happy with your life. you really should watch it and you will get hooked on it. i am just telling you what happened to me and everybody else that started watching this awesome show. well i need must go to have some lunch. remember you must start watching full house and soon!\"\n",
            "Round-trip:  full house is a great show i am still today [UNK] up on it i started watching it when i was [UNK] and now i am [UNK] and still watching it i [UNK] in love with all of the characters especially [UNK] she is my favorite she had such a sense of humor in case there are people on this [UNK] that hardly watch the show you should because you will get [UNK] on it i became [UNK] on it after the first show i saw which just happened to be the first episode in [UNK] it really is a good show i really think that this show should go down to many [UNK] in [UNK] and its great too because it is an [UNK] show for all [UNK] and for all parents it [UNK] kids [UNK] on how to go on with their life nothing terrible happens like violence or [UNK] it is just a really great [UNK] i give it 5 out of 5 stars what do you think oh and the best time to watch it is when you are home [UNK] from school or even the old [UNK] it will make you feel a lot better [UNK] me i am hardly home [UNK] but i still know that it will make you feel better and to [UNK] that [UNK] the show is stupid well thats too bad for you because you wont get as far in life even if you are happy with your life you really should watch it and you will get [UNK] on it i am just [UNK] you what happened to me and [UNK] else that started watching this [UNK] show well i need must go to have some [UNK] remember you must start watching full house and soon                                                                                                                                                                                                                                                                                                                                                                                                                                                                         \n",
            "\n"
          ]
        }
      ]
    },
    {
      "cell_type": "markdown",
      "source": [
        "**Buat Model**"
      ],
      "metadata": {
        "id": "b6k-mOX5qv75"
      }
    },
    {
      "cell_type": "markdown",
      "source": [
        "*diagram model dapat dilihat pada gambar diatas*\n",
        "1. *Model ini dapat dibuat sebagai tf.keras.Sequential.*\n",
        "2. *Lapisan pertama adalah encoder, yang mengubah teks menjadi urutan indeks token.*\n",
        "3. *Setelah encoder adalah lapisan penyematan (embedding layer). Lapisan penyematan menyimpan satu vektor per kata. Saat dipanggil, ini mengubah rangkaian indeks kata menjadi rangkaian vektor. Vektor-vektor ini dapat dilatih. Setelah pelatihan (dengan data yang cukup), kata-kata dengan arti yang mirip sering kali memiliki vektor yang serupa. Pencarian indeks ini jauh lebih efisien daripada operasi setara dengan meneruskan vektor yang disandikan one-hot melalui lapisan tf.keras.layers.Dense.*\n",
        "4. *Jaringan saraf berulang (RNN) memproses masukan urutan dengan melakukan iterasi melalui elemen. RNN meneruskan keluaran dari satu langkah waktu ke masukannya pada langkah waktu berikutnya.*\n",
        "Pembungkus tf.keras.layers.Bidirection juga dapat digunakan dengan lapisan RNN. Ini menyebarkan masukan maju dan mundur melalui lapisan RNN dan kemudian menggabungkan keluaran akhir.\n",
        "\n",
        "*-Keuntungan utama RNN dua arah adalah sinyal dari awal masukan tidak perlu diproses sepanjang waktu untuk memengaruhi keluaran.*\n",
        "\n",
        "*-Kerugian utama dari RNN dua arah adalah Anda tidak dapat melakukan streaming prediksi secara efisien saat kata-kata ditambahkan di akhir.*\n",
        "\n",
        "5. *Setelah RNN mengonversi urutan menjadi satu vektor, kedua lapisan tersebut.Dense melakukan beberapa pemrosesan akhir, dan mengonversi representasi vektor ini menjadi logit tunggal sebagai keluaran klasifikasi.*\n",
        "\n",
        "*Kode nya adalah sebagai berikut :*"
      ],
      "metadata": {
        "id": "RGmfo0QrqzkJ"
      }
    },
    {
      "cell_type": "code",
      "source": [
        "model = tf.keras.Sequential([\n",
        "    encoder,\n",
        "    tf.keras.layers.Embedding(\n",
        "        input_dim=len(encoder.get_vocabulary()),\n",
        "        output_dim=64,\n",
        "        # Use masking to handle the variable sequence lengths\n",
        "        mask_zero=True),\n",
        "    tf.keras.layers.Bidirectional(tf.keras.layers.LSTM(64)),\n",
        "    tf.keras.layers.Dense(64, activation='relu'),\n",
        "    tf.keras.layers.Dense(1)\n",
        "])"
      ],
      "metadata": {
        "id": "0icjjBCurmFa"
      },
      "execution_count": 10,
      "outputs": []
    },
    {
      "cell_type": "markdown",
      "source": [
        "*Harap dicatat bahwa model sekuensial Keras digunakan di sini karena semua lapisan dalam model hanya memiliki masukan tunggal dan menghasilkan keluaran tunggal. Jika Anda ingin menggunakan lapisan RNN stateful, Anda mungkin ingin membangun model Anda dengan API fungsional Keras atau subkelas model sehingga Anda dapat mengambil dan menggunakan kembali status lapisan RNN. Untuk detailnya bisa dilihat pada Keras RNN guide*\n",
        "\n",
        "*Lapisan penyematan menggunakan masking (uses masking ) untuk menangani panjang urutan yang bervariasi. Semua lapisan setelah penyematan dukungan penyematan*"
      ],
      "metadata": {
        "id": "LBX3bcKGrsYa"
      }
    },
    {
      "cell_type": "code",
      "source": [
        "print([layer.supports_masking for layer in model.layers])"
      ],
      "metadata": {
        "colab": {
          "base_uri": "https://localhost:8080/"
        },
        "id": "uP5REfwwrxhR",
        "outputId": "7142f14b-93c3-498c-b690-41be26bdb20e"
      },
      "execution_count": 11,
      "outputs": [
        {
          "output_type": "stream",
          "name": "stdout",
          "text": [
            "[False, True, True, True, True]\n"
          ]
        }
      ]
    },
    {
      "cell_type": "markdown",
      "source": [
        "*Untuk memastikan bahwa ini berfungsi seperti yang diharapkan, evaluasi sebuah kalimat dua kali. Pertama, satu kalimat sehingga tidak ada bantalan (padding) untuk disamarkan:*"
      ],
      "metadata": {
        "id": "iOs-DHuJr2us"
      }
    },
    {
      "cell_type": "code",
      "source": [
        "# predict on a sample text without padding.\n",
        "\n",
        "sample_text = ('The movie was cool. The animation and the graphics '\n",
        "               'were out of this world. I would recommend this movie.')\n",
        "predictions = model.predict(np.array([sample_text]))\n",
        "print(predictions[0])"
      ],
      "metadata": {
        "colab": {
          "base_uri": "https://localhost:8080/"
        },
        "id": "58eoKGfdr477",
        "outputId": "94977092-a9e4-4e1c-9bc3-34b1acb807be"
      },
      "execution_count": 12,
      "outputs": [
        {
          "output_type": "stream",
          "name": "stdout",
          "text": [
            "1/1 [==============================] - 8s 8s/step\n",
            "[-0.00239001]\n"
          ]
        }
      ]
    },
    {
      "cell_type": "markdown",
      "source": [
        "*Sekarang, evaluasi lagi dalam batch dengan kalimat yang lebih panjang. Hasilnya harus sama:*"
      ],
      "metadata": {
        "id": "YfOr8OSjr7iM"
      }
    },
    {
      "cell_type": "code",
      "source": [
        "# predict on a sample text with padding\n",
        "\n",
        "padding = \"the \" * 2000\n",
        "predictions = model.predict(np.array([sample_text, padding]))\n",
        "print(predictions[0])"
      ],
      "metadata": {
        "colab": {
          "base_uri": "https://localhost:8080/"
        },
        "id": "mCilAtknr9I2",
        "outputId": "32f5ef37-45c2-47f6-89ff-63e91a0a0104"
      },
      "execution_count": 13,
      "outputs": [
        {
          "output_type": "stream",
          "name": "stdout",
          "text": [
            "1/1 [==============================] - 0s 61ms/step\n",
            "[-0.00239001]\n"
          ]
        }
      ]
    },
    {
      "cell_type": "markdown",
      "source": [
        "*compile model Keras untuk mengonfigurasi proses pelatihan:*"
      ],
      "metadata": {
        "id": "QksNsmSCsAFx"
      }
    },
    {
      "cell_type": "code",
      "source": [
        "model.compile(loss=tf.keras.losses.BinaryCrossentropy(from_logits=True),\n",
        "              optimizer=tf.keras.optimizers.Adam(1e-4),\n",
        "              metrics=['accuracy'])"
      ],
      "metadata": {
        "id": "VubgGUhhsCJD"
      },
      "execution_count": 14,
      "outputs": []
    },
    {
      "cell_type": "markdown",
      "source": [
        "**Train Model**"
      ],
      "metadata": {
        "id": "reEx5aw5sFVH"
      }
    },
    {
      "cell_type": "code",
      "source": [
        "history = model.fit(train_dataset, epochs=10,\n",
        "                    validation_data=test_dataset,\n",
        "                    validation_steps=30)"
      ],
      "metadata": {
        "colab": {
          "base_uri": "https://localhost:8080/"
        },
        "id": "XM7ndOcrsIPd",
        "outputId": "b8faa9df-e786-4579-8e1b-db1c089d4b29"
      },
      "execution_count": 15,
      "outputs": [
        {
          "output_type": "stream",
          "name": "stdout",
          "text": [
            "Epoch 1/10\n",
            "391/391 [==============================] - 54s 112ms/step - loss: 0.6296 - accuracy: 0.5869 - val_loss: 0.4645 - val_accuracy: 0.7771\n",
            "Epoch 2/10\n",
            "391/391 [==============================] - 27s 70ms/step - loss: 0.4053 - accuracy: 0.8085 - val_loss: 0.3813 - val_accuracy: 0.8359\n",
            "Epoch 3/10\n",
            "391/391 [==============================] - 26s 65ms/step - loss: 0.3426 - accuracy: 0.8443 - val_loss: 0.3368 - val_accuracy: 0.8464\n",
            "Epoch 4/10\n",
            "391/391 [==============================] - 26s 67ms/step - loss: 0.3212 - accuracy: 0.8585 - val_loss: 0.3419 - val_accuracy: 0.8396\n",
            "Epoch 5/10\n",
            "391/391 [==============================] - 25s 64ms/step - loss: 0.3128 - accuracy: 0.8621 - val_loss: 0.3342 - val_accuracy: 0.8557\n",
            "Epoch 6/10\n",
            "391/391 [==============================] - 26s 65ms/step - loss: 0.3089 - accuracy: 0.8659 - val_loss: 0.3217 - val_accuracy: 0.8589\n",
            "Epoch 7/10\n",
            "391/391 [==============================] - 26s 67ms/step - loss: 0.3047 - accuracy: 0.8661 - val_loss: 0.3357 - val_accuracy: 0.8568\n",
            "Epoch 8/10\n",
            "391/391 [==============================] - 26s 66ms/step - loss: 0.3034 - accuracy: 0.8682 - val_loss: 0.3290 - val_accuracy: 0.8542\n",
            "Epoch 9/10\n",
            "391/391 [==============================] - 27s 68ms/step - loss: 0.3006 - accuracy: 0.8702 - val_loss: 0.3528 - val_accuracy: 0.8484\n",
            "Epoch 10/10\n",
            "391/391 [==============================] - 26s 67ms/step - loss: 0.2987 - accuracy: 0.8692 - val_loss: 0.3246 - val_accuracy: 0.8630\n"
          ]
        }
      ]
    },
    {
      "cell_type": "code",
      "source": [
        "test_loss, test_acc = model.evaluate(test_dataset)\n",
        "\n",
        "print('Test Loss:', test_loss)\n",
        "print('Test Accuracy:', test_acc)"
      ],
      "metadata": {
        "colab": {
          "base_uri": "https://localhost:8080/"
        },
        "id": "lBBcLCFysNAB",
        "outputId": "49a4c5ba-ad1f-48fc-9469-9699c2af2c9c"
      },
      "execution_count": 16,
      "outputs": [
        {
          "output_type": "stream",
          "name": "stdout",
          "text": [
            "391/391 [==============================] - 12s 31ms/step - loss: 0.3252 - accuracy: 0.8644\n",
            "Test Loss: 0.32517802715301514\n",
            "Test Accuracy: 0.8644400238990784\n"
          ]
        }
      ]
    },
    {
      "cell_type": "code",
      "source": [
        "plt.figure(figsize=(16, 8))\n",
        "plt.subplot(1, 2, 1)\n",
        "plot_graphs(history, 'accuracy')\n",
        "plt.ylim(None, 1)\n",
        "plt.subplot(1, 2, 2)\n",
        "plot_graphs(history, 'loss')\n",
        "plt.ylim(0, None)"
      ],
      "metadata": {
        "colab": {
          "base_uri": "https://localhost:8080/",
          "height": 719
        },
        "id": "jlfO84gGsOZ3",
        "outputId": "bc552745-6d72-458d-9063-ddb280b943b3"
      },
      "execution_count": 17,
      "outputs": [
        {
          "output_type": "execute_result",
          "data": {
            "text/plain": [
              "(0.0, 0.6461648866534233)"
            ]
          },
          "metadata": {},
          "execution_count": 17
        },
        {
          "output_type": "display_data",
          "data": {
            "text/plain": [
              "<Figure size 1600x800 with 2 Axes>"
            ],
            "image/png": "[encoded data removed]"
          },
          "metadata": {}
        }
      ]
    },
    {
      "cell_type": "markdown",
      "source": [
        "*Jalankan prediksi pada kalimat baru:*"
      ],
      "metadata": {
        "id": "EXeu8CaCsQ08"
      }
    },
    {
      "cell_type": "markdown",
      "source": [
        "*Jika prediksi >= 0,0 berarti positif, jika tidak maka negatif.*"
      ],
      "metadata": {
        "id": "F1IucCRZsR7g"
      }
    },
    {
      "cell_type": "code",
      "source": [
        "sample_text = ('The movie was cool. The animation and the graphics '\n",
        "              'were out of this world. I would recommend this movie.')\n",
        "predictions = model.predict(np.array([sample_text]))"
      ],
      "metadata": {
        "colab": {
          "base_uri": "https://localhost:8080/"
        },
        "id": "Kl7YjYYSsUzP",
        "outputId": "34b41ea2-6724-45a0-f011-990545397264"
      },
      "execution_count": 18,
      "outputs": [
        {
          "output_type": "stream",
          "name": "stdout",
          "text": [
            "1/1 [==============================] - 2s 2s/step\n"
          ]
        }
      ]
    },
    {
      "cell_type": "markdown",
      "source": [
        "**Stack two or more LSTM layers**"
      ],
      "metadata": {
        "id": "d_0164Q2s2W0"
      }
    },
    {
      "cell_type": "markdown",
      "source": [
        "**Lapisan berulang Keras memiliki dua mode yang tersedia yang dikontrol oleh argumen konstruktor return_sequences :**\n",
        "* *Jika False, ia hanya mengembalikan keluaran terakhir untuk setiap urutan masukan (bentuk tensor 2D (batch_size, output_features)). Ini adalah default yang digunakan pada model sebelumnya.*\n",
        "* *Jika True, Sequence lengkap output berturut-turut untuk setiap langkah waktu dikembalikan (bentuk tensor 3D (ukuran_batch, langkah waktu, fitur_output)).*\n",
        "\n",
        "*Berikut adalah alur informasi dengan return_sequences=True:*"
      ],
      "metadata": {
        "id": "UY28aPkes4uj"
      }
    },
    {
      "cell_type": "markdown",
      "source": [
        "*Hal yang menarik dari penggunaan RNN dengan return_sequences=True adalah outputnya masih memiliki 3 axis, sama seperti inputnya, sehingga bisa diteruskan ke layer RNN lain, seperti ini:*"
      ],
      "metadata": {
        "id": "v4NuwHSPtEDw"
      }
    },
    {
      "cell_type": "code",
      "source": [
        "model = tf.keras.Sequential([\n",
        "   encoder,\n",
        "   tf.keras.layers.Embedding(len(encoder.get_vocabulary()), 64, mask_zero=True),\n",
        "   tf.keras.layers.Bidirectional(tf.keras.layers.LSTM(64, return_sequences=True)),\n",
        "   tf.keras.layers.Bidirectional(tf.keras.layers.LSTM(32)),\n",
        "   tf.keras.layers.Dense(64, activation='relu'),\n",
        "   tf.keras.layers.Dropout(0.5),\n",
        "   tf.keras.layers.Dense(1)\n",
        "])"
      ],
      "metadata": {
        "id": "05JcPxIntG9E"
      },
      "execution_count": 19,
      "outputs": []
    },
    {
      "cell_type": "code",
      "source": [
        "model.compile(loss=tf.keras.losses.BinaryCrossentropy(from_logits=True),\n",
        "              optimizer=tf.keras.optimizers.Adam(1e-4),\n",
        "              metrics=['accuracy'])"
      ],
      "metadata": {
        "id": "Y9dEESGNtVY9"
      },
      "execution_count": 20,
      "outputs": []
    },
    {
      "cell_type": "code",
      "source": [
        "history = model.fit(train_dataset, epochs=10,\n",
        "                    validation_data=test_dataset,\n",
        "                    validation_steps=30)"
      ],
      "metadata": {
        "colab": {
          "base_uri": "https://localhost:8080/"
        },
        "id": "-6rjs963tdIq",
        "outputId": "3c599f03-6d30-401a-d0f0-ef01eafbe0e3"
      },
      "execution_count": 21,
      "outputs": [
        {
          "output_type": "stream",
          "name": "stdout",
          "text": [
            "Epoch 1/10\n",
            "391/391 [==============================] - 80s 154ms/step - loss: 0.6339 - accuracy: 0.5783 - val_loss: 0.4538 - val_accuracy: 0.7818\n",
            "Epoch 2/10\n",
            "391/391 [==============================] - 48s 123ms/step - loss: 0.3957 - accuracy: 0.8216 - val_loss: 0.3573 - val_accuracy: 0.8422\n",
            "Epoch 3/10\n",
            "391/391 [==============================] - 48s 121ms/step - loss: 0.3424 - accuracy: 0.8520 - val_loss: 0.3413 - val_accuracy: 0.8427\n",
            "Epoch 4/10\n",
            "391/391 [==============================] - 46s 117ms/step - loss: 0.3212 - accuracy: 0.8609 - val_loss: 0.3313 - val_accuracy: 0.8604\n",
            "Epoch 5/10\n",
            "391/391 [==============================] - 47s 119ms/step - loss: 0.3138 - accuracy: 0.8640 - val_loss: 0.3353 - val_accuracy: 0.8297\n",
            "Epoch 6/10\n",
            "391/391 [==============================] - 47s 120ms/step - loss: 0.3094 - accuracy: 0.8656 - val_loss: 0.3214 - val_accuracy: 0.8542\n",
            "Epoch 7/10\n",
            "391/391 [==============================] - 46s 118ms/step - loss: 0.3069 - accuracy: 0.8674 - val_loss: 0.3201 - val_accuracy: 0.8604\n",
            "Epoch 8/10\n",
            "391/391 [==============================] - 47s 120ms/step - loss: 0.3033 - accuracy: 0.8694 - val_loss: 0.3183 - val_accuracy: 0.8583\n",
            "Epoch 9/10\n",
            "391/391 [==============================] - 46s 117ms/step - loss: 0.2992 - accuracy: 0.8712 - val_loss: 0.3170 - val_accuracy: 0.8609\n",
            "Epoch 10/10\n",
            "391/391 [==============================] - 47s 119ms/step - loss: 0.3012 - accuracy: 0.8691 - val_loss: 0.3141 - val_accuracy: 0.8578\n"
          ]
        }
      ]
    },
    {
      "cell_type": "code",
      "source": [
        "test_loss, test_acc = model.evaluate(test_dataset)\n",
        "\n",
        "print('Test Loss:', test_loss)\n",
        "print('Test Accuracy:', test_acc)"
      ],
      "metadata": {
        "colab": {
          "base_uri": "https://localhost:8080/"
        },
        "id": "mKZYyTMPtkIg",
        "outputId": "9d4ee83f-85b0-43a2-e3b8-66a856e22b22"
      },
      "execution_count": 22,
      "outputs": [
        {
          "output_type": "stream",
          "name": "stdout",
          "text": [
            "391/391 [==============================] - 20s 51ms/step - loss: 0.3144 - accuracy: 0.8588\n",
            "Test Loss: 0.31444284319877625\n",
            "Test Accuracy: 0.8588399887084961\n"
          ]
        }
      ]
    },
    {
      "cell_type": "code",
      "source": [
        "# predict on a sample text without padding.\n",
        "\n",
        "sample_text = ('The movie was not good. The animation and the graphics '\n",
        "               'were terrible. I would not recommend this movie.')\n",
        "predictions = model.predict(np.array([sample_text]))\n",
        "print(predictions)"
      ],
      "metadata": {
        "colab": {
          "base_uri": "https://localhost:8080/"
        },
        "id": "7c9TCdgJtluQ",
        "outputId": "461bec64-aeec-4c22-8306-9c9613ea14c6"
      },
      "execution_count": 23,
      "outputs": [
        {
          "output_type": "stream",
          "name": "stdout",
          "text": [
            "1/1 [==============================] - 5s 5s/step\n",
            "[[-1.7864337]]\n"
          ]
        }
      ]
    },
    {
      "cell_type": "code",
      "source": [
        "plt.figure(figsize=(16, 6))\n",
        "plt.subplot(1, 2, 1)\n",
        "plot_graphs(history, 'accuracy')\n",
        "plt.subplot(1, 2, 2)\n",
        "plot_graphs(history, 'loss')"
      ],
      "metadata": {
        "colab": {
          "base_uri": "https://localhost:8080/",
          "height": 546
        },
        "id": "KsRzlOPDtqVB",
        "outputId": "b2b90a8f-cab9-4293-ed89-e2c4e911f37f"
      },
      "execution_count": 24,
      "outputs": [
        {
          "output_type": "display_data",
          "data": {
            "text/plain": [
              "<Figure size 1600x600 with 2 Axes>"
            ],
            "image/png": "[encoded data removed]"
          },
          "metadata": {}
        }
      ]
    },
    {
      "cell_type": "markdown",
      "source": [
        "> # **Praktikum 2** *Generator Teks dengan RNN*"
      ],
      "metadata": {
        "id": "I6k9NK8AxgRu"
      }
    },
    {
      "cell_type": "markdown",
      "source": [
        "*Praktikum ini mendemonstrasikan cara melakukan genearsi text menggunakan RNN. Dataset yang digunkan adalah dataset Shakespeare's writing from Andrej Karpathy's [The Unreasonable Effectiveness of Recurrent Neural Networks](http://karpathy.github.io/2015/05/21/rnn-effectiveness/). Jika diberikan urutan karakter dari data ini (\"Shakespear\"), latih model untuk memprediksi karakter berikutnya dalam urutan (\"e\"). Urutan teks yang lebih panjang dapat dihasilkan dengan memanggil model berulang kali.*\n",
        "\n",
        "*Note: Enable GPU acceleration to execute this notebook faster. In Colab: Runtime > Change runtime type > Hardware accelerator > GPU.*\n",
        "\n",
        "*Tutorial ini menggunakan tf.keras dan eager execution. Berikut adalah contoh output ketika model dalam tutorial ini dilatih selama 30 epoch, dan dimulai dengan prompt \"Q\":*"
      ],
      "metadata": {
        "id": "5Su-XboLxtID"
      }
    },
    {
      "cell_type": "markdown",
      "source": [
        "**QUEENE:**\n",
        "*I had thought thou hadst a Roman; for the oracle,\n",
        "Thus by All bids the man against the word,\n",
        "Which are so weak of care, by old care done;\n",
        "Your children were in your holy love,\n",
        "And the precipitation through the bleeding throne.*\n",
        "\n",
        "**BISHOP OF ELY:**\n",
        "*Marry, and will, my lord, to weep in such a one were prettiest;\n",
        "Yet now I was adopted heir\n",
        "Of the world's lamentable day,\n",
        "To watch the next way with his father with his face?*\n",
        "\n",
        "**ESCALUS:**\n",
        "*The cause why then we are all resolved more sons.*\n",
        "\n",
        "**VOLUMNIA:**\n",
        "*O, no, no, no, no, no, no, no, no, no, no, no, no, no, no, no, no, no, no, no, no, it is no sin it should be dead,\n",
        "And love and pale as any will to that word.*\n",
        "\n",
        "**QUEEN ELIZABETH:**\n",
        "*But how long have I heard the soul for this world,\n",
        "And show his hands of life be proved to stand.*\n",
        "\n",
        "**PETRUCHIO:**\n",
        "*I say he look'd on, if I must be content\n",
        "To stay him from the fatal of our country's bliss.\n",
        "His lordship pluck'd from this sentence then for prey,\n",
        "And then let us twain, being the moon,\n",
        "were she such a case as fills m*"
      ],
      "metadata": {
        "id": "sF8VT1wOyKr8"
      }
    },
    {
      "cell_type": "markdown",
      "source": [
        "*Meskipun beberapa kalimat memiliki tata bahasa, sebagian besar tidak masuk akal. Model belum mempelajari arti kata-kata, namun anggap saja:*\n",
        "\n",
        "*-Modelnya berbasis karakter. Saat pelatihan dimulai, model tidak mengetahui cara mengeja kata dalam bahasa Inggris, atau bahkan kata-kata tersebut merupakan satuan teks.*\n",
        "\n",
        "*-Struktur keluarannya menyerupai sandiwara—blok teks umumnya dimulai dengan nama pembicara, dengan huruf kapital semua mirip dengan kumpulan data.*\n",
        "\n",
        "*-Seperti yang ditunjukkan di bawah, model dilatih pada kumpulan teks kecil (masing-masing 100 karakter), dan masih mampu menghasilkan rangkaian teks yang lebih panjang dengan struktur yang koheren.*"
      ],
      "metadata": {
        "id": "uVfbppLNylSF"
      }
    },
    {
      "cell_type": "markdown",
      "source": [
        "**Setup**"
      ],
      "metadata": {
        "id": "lUt6NO1Yy1xd"
      }
    },
    {
      "cell_type": "markdown",
      "source": [
        "*Import TensorFlow*"
      ],
      "metadata": {
        "id": "ZEQFWKzpy4Uk"
      }
    },
    {
      "cell_type": "code",
      "source": [
        "import tensorflow as tf\n",
        "import numpy as np\n",
        "import os\n",
        "import time"
      ],
      "metadata": {
        "id": "Iw8Lu5CPy7Hh"
      },
      "execution_count": 25,
      "outputs": []
    },
    {
      "cell_type": "markdown",
      "source": [
        "*Download Dataset Shakespeare*\n",
        "\n",
        "*Sesuaikan dengan lokasi data yang Anda punya.*"
      ],
      "metadata": {
        "id": "PZGz9Zogy-7h"
      }
    },
    {
      "cell_type": "code",
      "source": [
        "path_to_file = tf.keras.utils.get_file('shakespeare.txt', 'https://storage.googleapis.com/download.tensorflow.org/data/shakespeare.txt')"
      ],
      "metadata": {
        "id": "kBIvmvRbzGhe",
        "outputId": "88672c59-ddcd-4f61-826d-5105d55c9951",
        "colab": {
          "base_uri": "https://localhost:8080/"
        }
      },
      "execution_count": 26,
      "outputs": [
        {
          "output_type": "stream",
          "name": "stdout",
          "text": [
            "Downloading data from https://storage.googleapis.com/download.tensorflow.org/data/shakespeare.txt\n",
            "1115394/1115394 [==============================] - 0s 0us/step\n"
          ]
        }
      ]
    },
    {
      "cell_type": "markdown",
      "source": [
        "*Load Data*"
      ],
      "metadata": {
        "id": "Ss0eBkvPzNHv"
      }
    },
    {
      "cell_type": "code",
      "source": [
        "# Read, then decode for py2 compat.\n",
        "text = open(path_to_file, 'rb').read().decode(encoding='utf-8')\n",
        "# length of text is the number of characters in it\n",
        "print(f'Length of text: {len(text)} characters')"
      ],
      "metadata": {
        "id": "BY2uU5I3zPW9",
        "outputId": "0fa35dec-621a-475d-92e7-c61b55b8e8a0",
        "colab": {
          "base_uri": "https://localhost:8080/"
        }
      },
      "execution_count": 27,
      "outputs": [
        {
          "output_type": "stream",
          "name": "stdout",
          "text": [
            "Length of text: 1115394 characters\n"
          ]
        }
      ]
    },
    {
      "cell_type": "code",
      "source": [
        "# Take a look at the first 250 characters in text\n",
        "print(text[:250])"
      ],
      "metadata": {
        "id": "7TE8FvFczQ_t",
        "outputId": "d0a3ebb4-eced-4760-d52c-d9edba9e985d",
        "colab": {
          "base_uri": "https://localhost:8080/"
        }
      },
      "execution_count": 28,
      "outputs": [
        {
          "output_type": "stream",
          "name": "stdout",
          "text": [
            "First Citizen:\n",
            "Before we proceed any further, hear me speak.\n",
            "\n",
            "All:\n",
            "Speak, speak.\n",
            "\n",
            "First Citizen:\n",
            "You are all resolved rather to die than to famish?\n",
            "\n",
            "All:\n",
            "Resolved. resolved.\n",
            "\n",
            "First Citizen:\n",
            "First, you know Caius Marcius is chief enemy to the people.\n",
            "\n"
          ]
        }
      ]
    },
    {
      "cell_type": "code",
      "source": [
        "# The unique characters in the file\n",
        "vocab = sorted(set(text))\n",
        "print(f'{len(vocab)} unique characters')"
      ],
      "metadata": {
        "id": "rRrmdLDlzTML",
        "outputId": "2bd3fcdb-3c40-4cc2-a703-a5f83d032ee7",
        "colab": {
          "base_uri": "https://localhost:8080/"
        }
      },
      "execution_count": 29,
      "outputs": [
        {
          "output_type": "stream",
          "name": "stdout",
          "text": [
            "65 unique characters\n"
          ]
        }
      ]
    },
    {
      "cell_type": "markdown",
      "source": [
        "**Olah Teks**"
      ],
      "metadata": {
        "id": "5Caj7L-izbK_"
      }
    },
    {
      "cell_type": "markdown",
      "source": [
        "*Vectorize Teks*\n",
        "\n",
        "*Sebelum training, Anda perlu mengonversi string menjadi representasi numerik. tf.keras.layers.StringLookup dapat mengubah setiap karakter menjadi ID numerik. Caranya adalah teks akan dipecah menjadi token terlebih dahulu.*"
      ],
      "metadata": {
        "id": "PVdkRtMbzdDH"
      }
    },
    {
      "cell_type": "code",
      "source": [
        "example_texts = ['abcdefg', 'xyz']\n",
        "chars = tf.strings.unicode_split(example_texts, input_encoding='UTF-8')\n",
        "chars"
      ],
      "metadata": {
        "id": "dFjM97fxzhZN",
        "outputId": "06548d17-2772-4dfe-a1c4-355319b0d80f",
        "colab": {
          "base_uri": "https://localhost:8080/"
        }
      },
      "execution_count": 30,
      "outputs": [
        {
          "output_type": "execute_result",
          "data": {
            "text/plain": [
              "<tf.RaggedTensor [[b'a', b'b', b'c', b'd', b'e', b'f', b'g'], [b'x', b'y', b'z']]>"
            ]
          },
          "metadata": {},
          "execution_count": 30
        }
      ]
    },
    {
      "cell_type": "markdown",
      "source": [
        "*sekarang buat tf.keras.layers.StringLookup layer:*"
      ],
      "metadata": {
        "id": "4ik9jcDIzjYX"
      }
    },
    {
      "cell_type": "code",
      "source": [
        "ids_from_chars = tf.keras.layers.StringLookup(\n",
        "vocabulary=list(vocab), mask_token=None)"
      ],
      "metadata": {
        "id": "aHcdR46dzqM5"
      },
      "execution_count": 31,
      "outputs": []
    },
    {
      "cell_type": "markdown",
      "source": [
        "*perintah diatas mengconvert token menjadi id*"
      ],
      "metadata": {
        "id": "RXSesE8HzsMj"
      }
    },
    {
      "cell_type": "code",
      "source": [
        "ids = ids_from_chars(chars)\n",
        "ids"
      ],
      "metadata": {
        "id": "o0Rhk2lozt5k",
        "outputId": "c06595b0-8180-4c87-8d7d-2caf8621a2ba",
        "colab": {
          "base_uri": "https://localhost:8080/"
        }
      },
      "execution_count": 32,
      "outputs": [
        {
          "output_type": "execute_result",
          "data": {
            "text/plain": [
              "<tf.RaggedTensor [[40, 41, 42, 43, 44, 45, 46], [63, 64, 65]]>"
            ]
          },
          "metadata": {},
          "execution_count": 32
        }
      ]
    },
    {
      "cell_type": "markdown",
      "source": [
        "*Karena tujuan tutorial ini adalah untuk menghasilkan teks, penting juga untuk membalikkan representasi ini. Untuk ini Anda dapat menggunakan kode tf.keras.layers.StringLookup(..., invert=True).*\n",
        "\n",
        "*Catatan: pada kode ini, daripada meneruskan kosakata asli yang dihasilkan dengan diurutkan(set(teks)) gunakan metode get_vocabulary() dari tf.keras.layers.StringLookup sehingga token [UNK] disetel dengan cara yang sama.*"
      ],
      "metadata": {
        "id": "_bwjX5w0zyvx"
      }
    },
    {
      "cell_type": "code",
      "source": [
        "chars_from_ids = tf.keras.layers.StringLookup(\n",
        "    vocabulary=ids_from_chars.get_vocabulary(), invert=True, mask_token=None)"
      ],
      "metadata": {
        "id": "ngwR4fnIz7AK"
      },
      "execution_count": 33,
      "outputs": []
    },
    {
      "cell_type": "markdown",
      "source": [
        "*Lapisan ini mengconvert kembali karakter dari vektor ID, dan mengembalikannya sebagai karakter tf.RaggedTensor:*"
      ],
      "metadata": {
        "id": "ME5p1cb_z-b7"
      }
    },
    {
      "cell_type": "code",
      "source": [
        "chars = chars_from_ids(ids)\n",
        "chars"
      ],
      "metadata": {
        "id": "-qSdMav30AMq",
        "outputId": "ae221c40-cf9e-4e38-e05c-17b4bd007d5b",
        "colab": {
          "base_uri": "https://localhost:8080/"
        }
      },
      "execution_count": 34,
      "outputs": [
        {
          "output_type": "execute_result",
          "data": {
            "text/plain": [
              "<tf.RaggedTensor [[b'a', b'b', b'c', b'd', b'e', b'f', b'g'], [b'x', b'y', b'z']]>"
            ]
          },
          "metadata": {},
          "execution_count": 34
        }
      ]
    },
    {
      "cell_type": "markdown",
      "source": [
        "*Anda dapat menggunakan tf.strings.reduce_join untuk menggabungkan kembali karakter menjadi string.*"
      ],
      "metadata": {
        "id": "hlbT-54t0FHW"
      }
    },
    {
      "cell_type": "code",
      "source": [
        "tf.strings.reduce_join(chars, axis=-1).numpy()"
      ],
      "metadata": {
        "id": "CLzYBH6s0Gzk",
        "outputId": "3cfe50f0-da3a-460e-891d-648d5b9a1c57",
        "colab": {
          "base_uri": "https://localhost:8080/"
        }
      },
      "execution_count": 35,
      "outputs": [
        {
          "output_type": "execute_result",
          "data": {
            "text/plain": [
              "array([b'abcdefg', b'xyz'], dtype=object)"
            ]
          },
          "metadata": {},
          "execution_count": 35
        }
      ]
    },
    {
      "cell_type": "code",
      "source": [
        "def text_from_ids(ids):\n",
        "    return tf.strings.reduce_join(chars_from_ids(ids), axis=-1)"
      ],
      "metadata": {
        "id": "IUGsljzu0IrI"
      },
      "execution_count": 36,
      "outputs": []
    },
    {
      "cell_type": "markdown",
      "source": [
        "**Prediksi**"
      ],
      "metadata": {
        "id": "cv8mAa8L0OCQ"
      }
    },
    {
      "cell_type": "markdown",
      "source": [
        "*Diberikan sebuah karakter, atau serangkaian karakter, karakter apa yang paling mungkin berikutnya? Ini adalah tugas yang harus Anda latih agar model dapat melakukannya. Masukan ke model akan berupa urutan karakter, dan Anda melatih model untuk memprediksi keluaran berupa karakter berikut pada setiap langkah waktu. Karena RNN mempertahankan keadaan internal yang bergantung pada elemen yang terlihat sebelumnya, mengingat semua karakter dihitung hingga saat ini, karakter apa selanjutnya?*\n",
        "\n",
        "*Membuat Trianing Set dan Target*\n",
        "\n",
        "*Selanjutnya bagilah teks menjadi contoh sequence. Setiap masukan sequence akan berisi karakter seq_length dari teks. Untuk setiap masukan sequence, target prediksi berisi teks dengan panjang yang sama, hanya digeser satu karakter ke kanan. Jadi, bagi teks menjadi beberapa bagian seq_length+1. Misalnya, seq_length adalah 4 dan teks kita adalah \"Hello\". Urutan masukannya adalah \"Hell\", dan urutan targetnya adalah \"ello\". Untuk melakukan ini, pertama-tama gunakan fungsi tf.data.Dataset.from_tensor_slices untuk mengonversi vektor teks menjadi aliran indeks karakter.*"
      ],
      "metadata": {
        "id": "jlU4JVae0RCe"
      }
    },
    {
      "cell_type": "code",
      "source": [
        "all_ids = ids_from_chars(tf.strings.unicode_split(text, 'UTF-8'))\n",
        "all_ids"
      ],
      "metadata": {
        "id": "1PNbAjNl0Yjs",
        "outputId": "6d38d07d-4a6f-42b8-de16-39048760128c",
        "colab": {
          "base_uri": "https://localhost:8080/"
        }
      },
      "execution_count": 37,
      "outputs": [
        {
          "output_type": "execute_result",
          "data": {
            "text/plain": [
              "<tf.Tensor: shape=(1115394,), dtype=int64, numpy=array([19, 48, 57, ..., 46,  9,  1])>"
            ]
          },
          "metadata": {},
          "execution_count": 37
        }
      ]
    },
    {
      "cell_type": "code",
      "source": [
        "ids_dataset = tf.data.Dataset.from_tensor_slices(all_ids)"
      ],
      "metadata": {
        "id": "7vJDoEbo0cIK"
      },
      "execution_count": 38,
      "outputs": []
    },
    {
      "cell_type": "code",
      "source": [
        "for ids in ids_dataset.take(10):\n",
        "    print(chars_from_ids(ids).numpy().decode('utf-8'))"
      ],
      "metadata": {
        "id": "TOGu0fxI0due",
        "outputId": "ed6947db-343a-4383-f0d8-b785736d72d2",
        "colab": {
          "base_uri": "https://localhost:8080/"
        }
      },
      "execution_count": 39,
      "outputs": [
        {
          "output_type": "stream",
          "name": "stdout",
          "text": [
            "F\n",
            "i\n",
            "r\n",
            "s\n",
            "t\n",
            " \n",
            "C\n",
            "i\n",
            "t\n",
            "i\n"
          ]
        }
      ]
    },
    {
      "cell_type": "code",
      "source": [
        "seq_length = 100"
      ],
      "metadata": {
        "id": "88A6CW690myo"
      },
      "execution_count": 40,
      "outputs": []
    },
    {
      "cell_type": "markdown",
      "source": [
        "*Metode batch memungkinkan Anda dengan mudah mengonversi karakter individual ini menjadi urutan ukuran yang diinginkan.*"
      ],
      "metadata": {
        "id": "9YdMy5hD0qTp"
      }
    },
    {
      "cell_type": "code",
      "source": [
        "sequences = ids_dataset.batch(seq_length+1, drop_remainder=True)\n",
        "\n",
        "for seq in sequences.take(1):\n",
        "  print(chars_from_ids(seq))"
      ],
      "metadata": {
        "id": "7wr3sL7g0_8s",
        "outputId": "32b9e0c0-b2f6-4daf-b4bc-aa8d9e58ebca",
        "colab": {
          "base_uri": "https://localhost:8080/"
        }
      },
      "execution_count": 41,
      "outputs": [
        {
          "output_type": "stream",
          "name": "stdout",
          "text": [
            "tf.Tensor(\n",
            "[b'F' b'i' b'r' b's' b't' b' ' b'C' b'i' b't' b'i' b'z' b'e' b'n' b':'\n",
            " b'\\n' b'B' b'e' b'f' b'o' b'r' b'e' b' ' b'w' b'e' b' ' b'p' b'r' b'o'\n",
            " b'c' b'e' b'e' b'd' b' ' b'a' b'n' b'y' b' ' b'f' b'u' b'r' b't' b'h'\n",
            " b'e' b'r' b',' b' ' b'h' b'e' b'a' b'r' b' ' b'm' b'e' b' ' b's' b'p'\n",
            " b'e' b'a' b'k' b'.' b'\\n' b'\\n' b'A' b'l' b'l' b':' b'\\n' b'S' b'p' b'e'\n",
            " b'a' b'k' b',' b' ' b's' b'p' b'e' b'a' b'k' b'.' b'\\n' b'\\n' b'F' b'i'\n",
            " b'r' b's' b't' b' ' b'C' b'i' b't' b'i' b'z' b'e' b'n' b':' b'\\n' b'Y'\n",
            " b'o' b'u' b' '], shape=(101,), dtype=string)\n"
          ]
        }
      ]
    },
    {
      "cell_type": "markdown",
      "source": [
        "*akan lebih mudah untuk melihat apa yang dilakukan jika Anda menggabungkan token kembali menjadi string:*"
      ],
      "metadata": {
        "id": "9l17kC8k1DKz"
      }
    },
    {
      "cell_type": "code",
      "source": [
        "for seq in sequences.take(5):\n",
        "    print(text_from_ids(seq).numpy())"
      ],
      "metadata": {
        "id": "FQJ4fpB41GDS",
        "outputId": "666ded6b-80de-48da-81d4-9a9fe41b55cd",
        "colab": {
          "base_uri": "https://localhost:8080/"
        }
      },
      "execution_count": 42,
      "outputs": [
        {
          "output_type": "stream",
          "name": "stdout",
          "text": [
            "b'First Citizen:\\nBefore we proceed any further, hear me speak.\\n\\nAll:\\nSpeak, speak.\\n\\nFirst Citizen:\\nYou '\n",
            "b'are all resolved rather to die than to famish?\\n\\nAll:\\nResolved. resolved.\\n\\nFirst Citizen:\\nFirst, you k'\n",
            "b\"now Caius Marcius is chief enemy to the people.\\n\\nAll:\\nWe know't, we know't.\\n\\nFirst Citizen:\\nLet us ki\"\n",
            "b\"ll him, and we'll have corn at our own price.\\nIs't a verdict?\\n\\nAll:\\nNo more talking on't; let it be d\"\n",
            "b'one: away, away!\\n\\nSecond Citizen:\\nOne word, good citizens.\\n\\nFirst Citizen:\\nWe are accounted poor citi'\n"
          ]
        }
      ]
    },
    {
      "cell_type": "markdown",
      "source": [
        "*Untuk pelatihan, Anda memerlukan kumpulan data pasangan (input, label). Dimana input dan label merupakan urutan. Pada setiap langkah waktu, inputnya adalah karakter saat ini dan labelnya adalah karakter berikutnya. Berikut adalah fungsi yang mengambil urutan sebagai masukan, menduplikasi, dan menggesernya untuk menyelaraskan masukan dan label untuk setiap langkah waktu:*"
      ],
      "metadata": {
        "id": "1MqW_c5u1NK2"
      }
    },
    {
      "cell_type": "code",
      "source": [
        "def split_input_target(sequence):\n",
        "    input_text = sequence[:-1]\n",
        "    target_text = sequence[1:]\n",
        "    return input_text, target_text"
      ],
      "metadata": {
        "id": "s_q6Pfv-1PLZ"
      },
      "execution_count": 43,
      "outputs": []
    },
    {
      "cell_type": "code",
      "source": [
        "split_input_target(list(\"Tensorflow\"))"
      ],
      "metadata": {
        "id": "hVMqDCAw1Xfz",
        "outputId": "cd256c43-6779-4dd3-ab26-7b1ddaa85d78",
        "colab": {
          "base_uri": "https://localhost:8080/"
        }
      },
      "execution_count": 44,
      "outputs": [
        {
          "output_type": "execute_result",
          "data": {
            "text/plain": [
              "(['T', 'e', 'n', 's', 'o', 'r', 'f', 'l', 'o'],\n",
              " ['e', 'n', 's', 'o', 'r', 'f', 'l', 'o', 'w'])"
            ]
          },
          "metadata": {},
          "execution_count": 44
        }
      ]
    },
    {
      "cell_type": "code",
      "source": [
        "dataset = sequences.map(split_input_target)"
      ],
      "metadata": {
        "id": "QQpkKyDs1Yx0"
      },
      "execution_count": 45,
      "outputs": []
    },
    {
      "cell_type": "code",
      "source": [
        "for input_example, target_example in dataset.take(1):\n",
        "    print(\"Input :\", text_from_ids(input_example).numpy())\n",
        "    print(\"Target:\", text_from_ids(target_example).numpy())"
      ],
      "metadata": {
        "id": "YWOEdbej1b1H",
        "outputId": "0058bc98-627a-4b65-81d0-4a6f6567e6dd",
        "colab": {
          "base_uri": "https://localhost:8080/"
        }
      },
      "execution_count": 46,
      "outputs": [
        {
          "output_type": "stream",
          "name": "stdout",
          "text": [
            "Input : b'First Citizen:\\nBefore we proceed any further, hear me speak.\\n\\nAll:\\nSpeak, speak.\\n\\nFirst Citizen:\\nYou'\n",
            "Target: b'irst Citizen:\\nBefore we proceed any further, hear me speak.\\n\\nAll:\\nSpeak, speak.\\n\\nFirst Citizen:\\nYou '\n"
          ]
        }
      ]
    },
    {
      "cell_type": "markdown",
      "source": [
        "*Membuat Batch Training*\n",
        "\n",
        "*Anda menggunakan tf.data untuk membagi teks menjadi sequence yang dapat diatur. Namun sebelum memasukkan data ini ke dalam model, Anda perlu mengacak data dan mengemasnya ke dalam batch.*"
      ],
      "metadata": {
        "id": "4uEg5rpW1jSb"
      }
    },
    {
      "cell_type": "code",
      "source": [
        "# Batch size\n",
        "BATCH_SIZE = 64\n",
        "\n",
        "# Buffer size to shuffle the dataset\n",
        "# (TF data is designed to work with possibly infinite sequences,\n",
        "# so it doesn't attempt to shuffle the entire sequence in memory. Instead,\n",
        "# it maintains a buffer in which it shuffles elements).\n",
        "BUFFER_SIZE = 10000\n",
        "\n",
        "dataset = (\n",
        "    dataset\n",
        "    .shuffle(BUFFER_SIZE)\n",
        "    .batch(BATCH_SIZE, drop_remainder=True)\n",
        "    .prefetch(tf.data.experimental.AUTOTUNE))\n",
        "\n",
        "dataset"
      ],
      "metadata": {
        "id": "ARK115mv1m3m",
        "outputId": "e4a64971-f898-47f5-f168-541490dcc295",
        "colab": {
          "base_uri": "https://localhost:8080/"
        }
      },
      "execution_count": 47,
      "outputs": [
        {
          "output_type": "execute_result",
          "data": {
            "text/plain": [
              "<_PrefetchDataset element_spec=(TensorSpec(shape=(64, 100), dtype=tf.int64, name=None), TensorSpec(shape=(64, 100), dtype=tf.int64, name=None))>"
            ]
          },
          "metadata": {},
          "execution_count": 47
        }
      ]
    },
    {
      "cell_type": "markdown",
      "source": [
        "**Buat Model**"
      ],
      "metadata": {
        "id": "ZkJX2OqU1pUT"
      }
    },
    {
      "cell_type": "markdown",
      "source": [
        "*Bagian ini mendefinisikan model sebagai subkelas keras.Model (untuk lebih detilnya, lihat [Making new Layers and Models via subclassing](https://www.tensorflow.org/guide/keras/custom_layers_and_models)).\n",
        "\n",
        "*Model yang kita bangun memiliki 3 lapisan neural network :*\n",
        "* *tf.keras.layers.Embedding: Lapisan masukan. Tabel pencarian yang dapat dilatih yang akan memetakan setiap karakter-ID ke vektor dengan dimensi embedding_dim;*\n",
        "* *tf.keras.layers.GRU: lapisan RNN dengan ukuran unit=rnn_units (Anda juga dapat menggunakan lapisan LSTM di sini.)*\n",
        "* *tf.keras.layers.Dense: Lapisan keluaran, dengan keluaran vocab_size. Ini menghasilkan satu logit untuk setiap karakter dalam kosakata. Ini adalah log kemungkinan setiap karakter menurut model.*"
      ],
      "metadata": {
        "id": "VWn9_OyB1r-l"
      }
    },
    {
      "cell_type": "code",
      "source": [
        "# Length of the vocabulary in StringLookup Layer\n",
        "vocab_size = len(ids_from_chars.get_vocabulary())\n",
        "\n",
        "# The embedding dimension\n",
        "embedding_dim = 256\n",
        "\n",
        "# Number of RNN units\n",
        "rnn_units = 1024"
      ],
      "metadata": {
        "id": "p9ayDJgs15bV"
      },
      "execution_count": 48,
      "outputs": []
    },
    {
      "cell_type": "code",
      "source": [
        "class MyModel(tf.keras.Model):\n",
        "  def __init__(self, vocab_size, embedding_dim, rnn_units):\n",
        "    super().__init__(self)\n",
        "    self.embedding = tf.keras.layers.Embedding(vocab_size, embedding_dim)\n",
        "    self.gru = tf.keras.layers.GRU(rnn_units,\n",
        "                                   return_sequences=True,\n",
        "                                   return_state=True)\n",
        "    self.dense = tf.keras.layers.Dense(vocab_size)\n",
        "\n",
        "  def call(self, inputs, states=None, return_state=False, training=False):\n",
        "    x = inputs\n",
        "    x = self.embedding(x, training=training)\n",
        "    if states is None:\n",
        "      states = self.gru.get_initial_state(x)\n",
        "    x, states = self.gru(x, initial_state=states, training=training)\n",
        "    x = self.dense(x, training=training)\n",
        "\n",
        "    if return_state:\n",
        "      return x, states\n",
        "    else:\n",
        "      return x"
      ],
      "metadata": {
        "id": "UoJlacYq16uL"
      },
      "execution_count": 49,
      "outputs": []
    },
    {
      "cell_type": "code",
      "source": [
        "model = MyModel(\n",
        "    vocab_size=vocab_size,\n",
        "    embedding_dim=embedding_dim,\n",
        "    rnn_units=rnn_units)"
      ],
      "metadata": {
        "id": "mM7FZ4ZJ19Dn"
      },
      "execution_count": 50,
      "outputs": []
    },
    {
      "cell_type": "markdown",
      "source": [
        "*Untuk setiap karakter, model mencari penyematan, menjalankan GRU satu langkah waktu dengan penyematan sebagai masukan, dan menerapkan dense layer untuk menghasilkan log yang memprediksi kemungkinan log karakter berikutnya:*"
      ],
      "metadata": {
        "id": "yTAnXnW11_O5"
      }
    },
    {
      "cell_type": "markdown",
      "source": [
        "Note: Untuk pelatihan Anda bisa menggunakan model keras.Sequential di sini. Untuk menghasilkan teks nanti, Anda harus mengelola status internal RNN. Akan lebih mudah untuk memasukkan opsi input dan output status di awal, daripada mengatur ulang arsitektur model nanti. untuk detailnya bisa dilihat [Keras RNN guide](https://www.tensorflow.org/guide/keras/rnn#rnn_state_reuse)."
      ],
      "metadata": {
        "id": "rHqAfZ6Z2IDN"
      }
    },
    {
      "cell_type": "markdown",
      "source": [
        "**Uji Model**"
      ],
      "metadata": {
        "id": "v6yjgvUT2QEX"
      }
    },
    {
      "cell_type": "markdown",
      "source": [
        "*Coba jalankan model dan cek apakah sidah sesuai dengan output*\n",
        "\n",
        "*pertama, cek bentuk dari output*"
      ],
      "metadata": {
        "id": "UBxaxF3L2ST7"
      }
    },
    {
      "cell_type": "code",
      "source": [
        "for input_example_batch, target_example_batch in dataset.take(1):\n",
        "    example_batch_predictions = model(input_example_batch)\n",
        "    print(example_batch_predictions.shape, \"# (batch_size, sequence_length, vocab_size)\")"
      ],
      "metadata": {
        "id": "-Aiu2rsr2XOW",
        "outputId": "87e41fa0-068c-4a69-c6c3-d089adaf2d63",
        "colab": {
          "base_uri": "https://localhost:8080/"
        }
      },
      "execution_count": 51,
      "outputs": [
        {
          "output_type": "stream",
          "name": "stdout",
          "text": [
            "(64, 100, 66) # (batch_size, sequence_length, vocab_size)\n"
          ]
        }
      ]
    },
    {
      "cell_type": "markdown",
      "source": [
        "*Dalam contoh di atas, panjang urutan masukan adalah 100 tetapi model dapat dijalankan pada masukan dengan panjang berapa pun:*"
      ],
      "metadata": {
        "id": "GdZbiVH72aKq"
      }
    },
    {
      "cell_type": "code",
      "source": [
        "model.summary()"
      ],
      "metadata": {
        "id": "NlGzxAII2bso",
        "outputId": "54cfc996-12b6-4153-ddb3-0eb508243f9a",
        "colab": {
          "base_uri": "https://localhost:8080/"
        }
      },
      "execution_count": 52,
      "outputs": [
        {
          "output_type": "stream",
          "name": "stdout",
          "text": [
            "Model: \"my_model\"\n",
            "_________________________________________________________________\n",
            " Layer (type)                Output Shape              Param #   \n",
            "=================================================================\n",
            " embedding_2 (Embedding)     multiple                  16896     \n",
            "                                                                 \n",
            " gru (GRU)                   multiple                  3938304   \n",
            "                                                                 \n",
            " dense_4 (Dense)             multiple                  67650     \n",
            "                                                                 \n",
            "=================================================================\n",
            "Total params: 4022850 (15.35 MB)\n",
            "Trainable params: 4022850 (15.35 MB)\n",
            "Non-trainable params: 0 (0.00 Byte)\n",
            "_________________________________________________________________\n"
          ]
        }
      ]
    },
    {
      "cell_type": "markdown",
      "source": [
        "*Untuk mendapatkan prediksi aktual dari model, Anda perlu mengambil sampel dari distribusi keluaran, untuk mendapatkan indeks karakter aktual. Distribusi ini ditentukan oleh logit pada kosakata karakter. Catatan: Penting untuk mengambil sampel dari distribusi ini karena mengambil argmax dari distribusi tersebut dapat dengan mudah membuat model terjebak dalam infinote loop. Cobalah untuk contoh pertama di batch:*"
      ],
      "metadata": {
        "id": "G3fERU922dUU"
      }
    },
    {
      "cell_type": "code",
      "source": [
        "sampled_indices = tf.random.categorical(example_batch_predictions[0], num_samples=1)\n",
        "sampled_indices = tf.squeeze(sampled_indices, axis=-1).numpy()"
      ],
      "metadata": {
        "id": "JB_F3g6S2e9w"
      },
      "execution_count": 53,
      "outputs": []
    },
    {
      "cell_type": "markdown",
      "source": [
        "*Hal ini memberi kita, pada setiap langkah waktu, prediksi indeks karakter berikutnya:*"
      ],
      "metadata": {
        "id": "JMDP4lTf2hOj"
      }
    },
    {
      "cell_type": "code",
      "source": [
        "sampled_indices"
      ],
      "metadata": {
        "id": "y2YDGHOm2oeY",
        "outputId": "e0406ed4-5bc7-43dd-ceea-e246c59ae960",
        "colab": {
          "base_uri": "https://localhost:8080/"
        }
      },
      "execution_count": 54,
      "outputs": [
        {
          "output_type": "execute_result",
          "data": {
            "text/plain": [
              "array([52, 34, 22, 23,  0,  4, 56, 52, 29, 59,  0,  1,  0,  2, 49, 25, 31,\n",
              "       10, 25, 49, 57, 60, 44, 26,  8, 33, 11,  9, 17, 12, 42, 34, 65, 19,\n",
              "        7,  9, 41, 57,  9, 25,  2, 11,  7, 51, 62, 37, 21,  7, 51, 33, 18,\n",
              "        4, 21, 39, 64,  4, 22, 57, 53, 53, 18, 53, 59, 36, 49, 18, 24, 32,\n",
              "        5, 61, 61, 32, 54, 12,  3, 57, 23, 31, 25, 25, 36,  6, 28, 20, 21,\n",
              "       59, 43, 40, 28, 37,  6, 16, 63, 29, 34, 20, 48, 30, 47, 55])"
            ]
          },
          "metadata": {},
          "execution_count": 54
        }
      ]
    },
    {
      "cell_type": "markdown",
      "source": [
        "*Dekode kode berikut untuk melihat teks yang diprediksi oleh model tidak terlatih ini:*"
      ],
      "metadata": {
        "id": "qVrIT5z32qdF"
      }
    },
    {
      "cell_type": "code",
      "source": [
        "print(\"Input:\\n\", text_from_ids(input_example_batch[0]).numpy())\n",
        "print()\n",
        "print(\"Next Char Predictions:\\n\", text_from_ids(sampled_indices).numpy())"
      ],
      "metadata": {
        "id": "Pa3klTu52sQZ",
        "outputId": "1e901a60-2485-473e-a99b-4216f71c73ec",
        "colab": {
          "base_uri": "https://localhost:8080/"
        }
      },
      "execution_count": 55,
      "outputs": [
        {
          "output_type": "stream",
          "name": "stdout",
          "text": [
            "Input:\n",
            " b' report him truly.\\n\\nMENENIUS:\\nI paint him in the character. Mark what mercy his\\nmother shall bring f'\n",
            "\n",
            "Next Char Predictions:\n",
            " b\"mUIJ[UNK]$qmPt[UNK]\\n[UNK] jLR3LjrueM-T:.D;cUzF,.br.L :,lwXH,lTE$HZy$IrnnEntWjEKS&vvSo;!rJRLLW'OGHtdaOX'CxPUGiQhp\"\n"
          ]
        }
      ]
    },
    {
      "cell_type": "markdown",
      "source": [
        "**Train Model**"
      ],
      "metadata": {
        "id": "NnAExMNA2uZI"
      }
    },
    {
      "cell_type": "markdown",
      "source": [
        "*Pada titik ini permasalahan dapat dianggap sebagai permasalahan klasifikasi standar. Permasalahan dapat disimpulkan dengan : Berdasarkan status RNN sebelumnya, dan masukan langkah kali ini, prediksi kelas karakter berikutnya.*\n",
        "\n",
        "*Tambahan optimizer dan fungsi loss*\n",
        "\n",
        "*loss function tf.keras.losses.sparse_categorical_crossentropy standar berfungsi dalam kasus ini karena diterapkan di seluruh dimensi terakhir prediksi. Karena model Anda mengembalikan logits, Anda perlu mengatur flag from_logits.*"
      ],
      "metadata": {
        "id": "WAlAfXAV219g"
      }
    },
    {
      "cell_type": "code",
      "source": [
        "loss = tf.losses.SparseCategoricalCrossentropy(from_logits=True)"
      ],
      "metadata": {
        "id": "YvVLulW028NQ"
      },
      "execution_count": 56,
      "outputs": []
    },
    {
      "cell_type": "code",
      "source": [
        "example_batch_mean_loss = loss(target_example_batch, example_batch_predictions)\n",
        "print(\"Prediction shape: \", example_batch_predictions.shape, \" # (batch_size, sequence_length, vocab_size)\")\n",
        "print(\"Mean loss:        \", example_batch_mean_loss)"
      ],
      "metadata": {
        "id": "nhUl1Qxi3A-Y",
        "outputId": "2e6f38cf-e96b-4326-a463-227a76f1f204",
        "colab": {
          "base_uri": "https://localhost:8080/"
        }
      },
      "execution_count": 57,
      "outputs": [
        {
          "output_type": "stream",
          "name": "stdout",
          "text": [
            "Prediction shape:  (64, 100, 66)  # (batch_size, sequence_length, vocab_size)\n",
            "Mean loss:         tf.Tensor(4.189556, shape=(), dtype=float32)\n"
          ]
        }
      ]
    },
    {
      "cell_type": "markdown",
      "source": [
        "*Model yang baru diinisialisasi tidak boleh terlalu yakin dengan dirinya sendiri, semua log keluaran harus memiliki besaran yang sama. Untuk mengonfirmasi hal ini, Anda dapat memeriksa bahwa eksponensial dari loss rata-rata harus kira-kira sama dengan ukuran kosakata. Loss yang jauh lebih tinggi berarti model tersebut yakin akan jawaban yang salah, dan memiliki inisialisasi yang buruk:*"
      ],
      "metadata": {
        "id": "C0l6mxoR3Dpj"
      }
    },
    {
      "cell_type": "code",
      "source": [
        "tf.exp(example_batch_mean_loss).numpy()"
      ],
      "metadata": {
        "id": "iYkDOzVS3Fkb",
        "outputId": "9f835e3b-bfd6-4561-f2af-842339e52a83",
        "colab": {
          "base_uri": "https://localhost:8080/"
        }
      },
      "execution_count": 58,
      "outputs": [
        {
          "output_type": "execute_result",
          "data": {
            "text/plain": [
              "65.99349"
            ]
          },
          "metadata": {},
          "execution_count": 58
        }
      ]
    },
    {
      "cell_type": "markdown",
      "source": [
        "*Konfigurasikan prosedur pelatihan menggunakan metode tf.keras.Model.compile. Gunakan tf.keras.optimizers.Adam dengan argumen default dan fungsi loss.*"
      ],
      "metadata": {
        "id": "Nxvm7X-N3HXA"
      }
    },
    {
      "cell_type": "code",
      "source": [
        "model.compile(optimizer='adam', loss=loss)"
      ],
      "metadata": {
        "id": "O7lI4SGK3K2K"
      },
      "execution_count": 59,
      "outputs": []
    },
    {
      "cell_type": "markdown",
      "source": [
        "*Konfigurasi Checkpoints*\n",
        "\n",
        "*Gunakan tf.keras.callbacks.ModelCheckpoint untuk memastikan bahwa checkpoint disimpan selama pelatihan:*"
      ],
      "metadata": {
        "id": "hK3l7tqZ3N6d"
      }
    },
    {
      "cell_type": "code",
      "source": [
        "# Directory where the checkpoints will be saved\n",
        "checkpoint_dir = './training_checkpoints'\n",
        "# Name of the checkpoint files\n",
        "checkpoint_prefix = os.path.join(checkpoint_dir, \"ckpt_{epoch}\")\n",
        "\n",
        "checkpoint_callback = tf.keras.callbacks.ModelCheckpoint(\n",
        "    filepath=checkpoint_prefix,\n",
        "    save_weights_only=True)"
      ],
      "metadata": {
        "id": "kP-AFopm3SNe"
      },
      "execution_count": 60,
      "outputs": []
    },
    {
      "cell_type": "markdown",
      "source": [
        "*Lakukan Proses Training*\n",
        "\n",
        "*Agar waktu pelatihan tidak terlalu lama, gunakan 10 epoch untuk melatih model. Di Colab, setel runtime ke GPU untuk pelatihan yang lebih cepat.*"
      ],
      "metadata": {
        "id": "5MS9oScv3VCw"
      }
    },
    {
      "cell_type": "code",
      "source": [
        "EPOCHS = 20"
      ],
      "metadata": {
        "id": "Uqrwmv5e3X_z"
      },
      "execution_count": 61,
      "outputs": []
    },
    {
      "cell_type": "code",
      "source": [
        "history = model.fit(dataset, epochs=EPOCHS, callbacks=[checkpoint_callback])"
      ],
      "metadata": {
        "id": "PEVOkujA3Yth",
        "outputId": "4b0faea6-319e-4031-9cd7-0e1fc52128d7",
        "colab": {
          "base_uri": "https://localhost:8080/"
        }
      },
      "execution_count": 62,
      "outputs": [
        {
          "output_type": "stream",
          "name": "stdout",
          "text": [
            "Epoch 1/20\n",
            "172/172 [==============================] - 14s 59ms/step - loss: 2.7362\n",
            "Epoch 2/20\n",
            "172/172 [==============================] - 12s 58ms/step - loss: 2.0016\n",
            "Epoch 3/20\n",
            "172/172 [==============================] - 11s 57ms/step - loss: 1.7185\n",
            "Epoch 4/20\n",
            "172/172 [==============================] - 12s 58ms/step - loss: 1.5537\n",
            "Epoch 5/20\n",
            "172/172 [==============================] - 12s 60ms/step - loss: 1.4549\n",
            "Epoch 6/20\n",
            "172/172 [==============================] - 12s 59ms/step - loss: 1.3868\n",
            "Epoch 7/20\n",
            "172/172 [==============================] - 12s 61ms/step - loss: 1.3342\n",
            "Epoch 8/20\n",
            "172/172 [==============================] - 12s 60ms/step - loss: 1.2897\n",
            "Epoch 9/20\n",
            "172/172 [==============================] - 12s 61ms/step - loss: 1.2497\n",
            "Epoch 10/20\n",
            "172/172 [==============================] - 13s 62ms/step - loss: 1.2101\n",
            "Epoch 11/20\n",
            "172/172 [==============================] - 12s 60ms/step - loss: 1.1710\n",
            "Epoch 12/20\n",
            "172/172 [==============================] - 12s 61ms/step - loss: 1.1310\n",
            "Epoch 13/20\n",
            "172/172 [==============================] - 12s 61ms/step - loss: 1.0887\n",
            "Epoch 14/20\n",
            "172/172 [==============================] - 13s 60ms/step - loss: 1.0443\n",
            "Epoch 15/20\n",
            "172/172 [==============================] - 13s 61ms/step - loss: 0.9964\n",
            "Epoch 16/20\n",
            "172/172 [==============================] - 12s 61ms/step - loss: 0.9461\n",
            "Epoch 17/20\n",
            "172/172 [==============================] - 12s 62ms/step - loss: 0.8939\n",
            "Epoch 18/20\n",
            "172/172 [==============================] - 12s 61ms/step - loss: 0.8409\n",
            "Epoch 19/20\n",
            "172/172 [==============================] - 12s 59ms/step - loss: 0.7891\n",
            "Epoch 20/20\n",
            "172/172 [==============================] - 12s 61ms/step - loss: 0.7396\n"
          ]
        }
      ]
    },
    {
      "cell_type": "markdown",
      "source": [
        "**Generate Teks**"
      ],
      "metadata": {
        "id": "j0k5JbJJ3hRI"
      }
    },
    {
      "cell_type": "markdown",
      "source": [
        "*Cara termudah untuk menghasilkan teks dengan model ini adalah dengan menjalankannya dalam loop, dan menyimpan status internal model saat Anda menjalankannya.*"
      ],
      "metadata": {
        "id": "VIwj2HsY3jhX"
      }
    },
    {
      "cell_type": "markdown",
      "source": [
        "*Setiap kali Anda memanggil model, Anda memasukkan beberapa teks dan state internal. Model mengembalikan prediksi untuk karakter berikutnya dan state barunya. Masukkan kembali prediksi dan state ke model untuk terus menghasilkan teks.*\n",
        "\n",
        "*Berikut ini membuat prediksi satu langkah:*"
      ],
      "metadata": {
        "id": "7yFBVL5G3mmm"
      }
    },
    {
      "cell_type": "code",
      "source": [
        "class OneStep(tf.keras.Model):\n",
        "  def __init__(self, model, chars_from_ids, ids_from_chars, temperature=1.0):\n",
        "    super().__init__()\n",
        "    self.temperature = temperature\n",
        "    self.model = model\n",
        "    self.chars_from_ids = chars_from_ids\n",
        "    self.ids_from_chars = ids_from_chars\n",
        "\n",
        "    # Create a mask to prevent \"[UNK]\" from being generated.\n",
        "    skip_ids = self.ids_from_chars(['[UNK]'])[:, None]\n",
        "    sparse_mask = tf.SparseTensor(\n",
        "        # Put a -inf at each bad index.\n",
        "        values=[-float('inf')]*len(skip_ids),\n",
        "        indices=skip_ids,\n",
        "        # Match the shape to the vocabulary\n",
        "        dense_shape=[len(ids_from_chars.get_vocabulary())])\n",
        "    self.prediction_mask = tf.sparse.to_dense(sparse_mask)\n",
        "\n",
        "  @tf.function\n",
        "  def generate_one_step(self, inputs, states=None):\n",
        "    # Convert strings to token IDs.\n",
        "    input_chars = tf.strings.unicode_split(inputs, 'UTF-8')\n",
        "    input_ids = self.ids_from_chars(input_chars).to_tensor()\n",
        "\n",
        "    # Run the model.\n",
        "    # predicted_logits.shape is [batch, char, next_char_logits]\n",
        "    predicted_logits, states = self.model(inputs=input_ids, states=states,\n",
        "                                          return_state=True)\n",
        "    # Only use the last prediction.\n",
        "    predicted_logits = predicted_logits[:, -1, :]\n",
        "    predicted_logits = predicted_logits/self.temperature\n",
        "    # Apply the prediction mask: prevent \"[UNK]\" from being generated.\n",
        "    predicted_logits = predicted_logits + self.prediction_mask\n",
        "\n",
        "    # Sample the output logits to generate token IDs.\n",
        "    predicted_ids = tf.random.categorical(predicted_logits, num_samples=1)\n",
        "    predicted_ids = tf.squeeze(predicted_ids, axis=-1)\n",
        "\n",
        "    # Convert from token ids to characters\n",
        "    predicted_chars = self.chars_from_ids(predicted_ids)\n",
        "\n",
        "    # Return the characters and model state.\n",
        "    return predicted_chars, states"
      ],
      "metadata": {
        "id": "rtg2hjZL3p3U"
      },
      "execution_count": 63,
      "outputs": []
    },
    {
      "cell_type": "code",
      "source": [
        "one_step_model = OneStep(model, chars_from_ids, ids_from_chars)"
      ],
      "metadata": {
        "id": "E7rDIYCq3sDu"
      },
      "execution_count": 64,
      "outputs": []
    },
    {
      "cell_type": "markdown",
      "source": [
        "*Jalankan secara berulang untuk menghasilkan beberapa teks. Melihat teks yang dihasilkan, Anda akan melihat model mengetahui kapan harus menggunakan huruf besar, membuat paragraf, dan meniru kosakata menulis seperti Shakespeare. Karena sedikitnya jumlah epoch pelatihan, model belum belajar membentuk kalimat runtut.*"
      ],
      "metadata": {
        "id": "KRJx5pjT3vRb"
      }
    },
    {
      "cell_type": "code",
      "source": [
        "start = time.time()\n",
        "states = None\n",
        "next_char = tf.constant(['ROMEO:'])\n",
        "result = [next_char]\n",
        "\n",
        "for n in range(1000):\n",
        "  next_char, states = one_step_model.generate_one_step(next_char, states=states)\n",
        "  result.append(next_char)\n",
        "\n",
        "result = tf.strings.join(result)\n",
        "end = time.time()\n",
        "print(result[0].numpy().decode('utf-8'), '\\n\\n' + '_'*80)\n",
        "print('\\nRun time:', end - start)"
      ],
      "metadata": {
        "id": "yQT_01So3xPx",
        "outputId": "1c90dff5-6bb5-4f3c-920d-029ea4766a25",
        "colab": {
          "base_uri": "https://localhost:8080/"
        }
      },
      "execution_count": 65,
      "outputs": [
        {
          "output_type": "stream",
          "name": "stdout",
          "text": [
            "ROMEO:\n",
            "Thou seest this indeed that I love his hands?\n",
            "where since I dream or wonder which ye understands\n",
            "nothing in my mind, and make my leave of you.\n",
            "But let's straight you.\n",
            "\n",
            "Lord:\n",
            "Little have you have counterfeit'st op, or I will do it. Edward the bending death\n",
            "I seem'd before this do affect this way?\n",
            "How now! what's the prettizent out so?\n",
            "Why, is he is mad, the laments do me drown.\n",
            "\n",
            "KING RICHARD II:\n",
            "And let him be revenged for't;\n",
            "O, welcome, good Cominius: ne'er me speak,\n",
            "And living me with ingots thee\n",
            "I am not hither consumed that made need to it.\n",
            "Younger here!--\n",
            "That meg thence was crown'd the white wonderful,\n",
            "That have avound the occasion seal mock'd dreamful,\n",
            "Not oppress'd the prince England's Kether's face,\n",
            "But bandy to revenge, Our highness\n",
            "To exile him: but beholds this pill here ir number,\n",
            "I meet him over-pluck'd to him; and ask her\n",
            "As an hoses come something wood to look makes.\n",
            "Will you be cur out to hear me, all sleep\n",
            "To our settleman and dimorous danger\n",
            "The deadless blood of kin \n",
            "\n",
            "________________________________________________________________________________\n",
            "\n",
            "Run time: 3.4112188816070557\n"
          ]
        }
      ]
    },
    {
      "cell_type": "markdown",
      "source": [
        "*Hal termudah yang dapat Anda lakukan untuk meningkatkan hasil adalah dengan melatihnya lebih lama (coba EPOCHS = 30). Anda juga dapat bereksperimen dengan string awal yang berbeda, mencoba menambahkan lapisan RNN lain untuk meningkatkan akurasi model, atau menyesuaikan parameter suhu untuk menghasilkan prediksi yang kurang lebih acak.*\n",
        "\n",
        "*Jika Anda ingin model menghasilkan teks lebih cepat, hal termudah yang dapat Anda lakukan adalah membuat teks secara batch. Pada contoh di bawah, model menghasilkan 5 keluaran dalam waktu yang hampir sama dengan waktu yang dibutuhkan untuk menghasilkan 1 keluaran di atas.*"
      ],
      "metadata": {
        "id": "l6_qxPYL3zdv"
      }
    },
    {
      "cell_type": "code",
      "source": [
        "start = time.time()\n",
        "states = None\n",
        "next_char = tf.constant(['ROMEO:', 'ROMEO:', 'ROMEO:', 'ROMEO:', 'ROMEO:'])\n",
        "result = [next_char]\n",
        "\n",
        "for n in range(1000):\n",
        "  next_char, states = one_step_model.generate_one_step(next_char, states=states)\n",
        "  result.append(next_char)\n",
        "\n",
        "result = tf.strings.join(result)\n",
        "end = time.time()\n",
        "print(result, '\\n\\n' + '_'*80)\n",
        "print('\\nRun time:', end - start)"
      ],
      "metadata": {
        "id": "4659V9GJ33sc",
        "outputId": "aca30dda-34ba-450b-eb8d-c1d091aee39c",
        "colab": {
          "base_uri": "https://localhost:8080/"
        }
      },
      "execution_count": 66,
      "outputs": [
        {
          "output_type": "stream",
          "name": "stdout",
          "text": [
            "tf.Tensor(\n",
            "[b\"ROMEO:\\nThe while I put thee: if I be no scare,\\nI have no so. Ah, Grey liberty!\\nI'll not I think he'll wear their embraces,\\nI desire you as a precediting world,\\nIs neat no more. I'll go along with something\\nEgains--that you deliver you\\nOf your wicked conceit. But come, my lady,\\nDid he appearable and sound. What\\nwill not you say you hence in charge,\\nSailing in it as to stand at art.\\n\\nLUCENTIO:\\nI may not mock thee what or hope of heaven blade.\\nCame on that? now are they do man that's absolved how\\nSweet I men slying before thy charge.\\n\\nNurse:\\nNay, it imports you.\\n\\nLUCIO:\\nThis dog so foully go.\\nMercifes, it was a potter and reserved med\\nto make a puesaint to be entrail.\\nHere comes the Duke of Naples by the year,\\nI here pronest a painted stay.\\n\\nGRUMIO:\\nHere's a good deed, I think so. Thou'rt\\nlet's ready to thee alive,\\nWhile I shall have all While we learn\\nRedead to the Duke of Lancaster and\\nDispleasure us here from wine and answer.\\n\\nQUEEN ELIZABETH:\\nSo soon as yoursfly nated unto his back of heave\"\n",
            " b\"ROMEO:\\nO thou, the rash in the name of men,\\nThe rest wash of it, and obedient France\\nIn thy desperate many growing Master Florks,\\nWith kinsmen sin! O, that favour's still\\nIn honour seek of what merry with your reason\\nAre I consent to severite!\\nThis noble eyes of tears; here is most incless,\\nTherefore you were presently to nothing\\nHarvest with great earnesters. Have you lost a common\\nWithin my power will I easy what shall\\nNow pack them that dark sorrow and your\\nyouth.\\n\\nCLARENCE:\\nMy heart will soon for revenge may strike I stood?\\n\\nGRUMIO:\\nKnow, sir; what is this?\\n\\nPARES:\\nSweet, so, your good worse.\\n\\nFirst Murderer:\\nAy, but the loss of thine.\\n\\nTRANIO:\\nAy, my good lord; it was my humble toward.\\n\\nLUCENTIO:\\nBut indeed, sir, a word before.\\n\\nBRUTUS:\\nHave you depart:\\nhelping at the precious corio slave, how said I have lost\\nBelieve not that the heart of Warwick's womb,\\nThe dangerous and unrush and smilet,\\nWhich in harm, as still-table help enterant\\nA thing my daughter to my state.\\n\\nDUKE VINCENTIO:\\nWh\"\n",
            " b\"ROMEO:\\nThou dost not so. There's no sleep with odd:--xed unto me, Master takes my heopted fathers;\\nAnd he shall see\\nThy answer and unquitt watch your harm:\\nBesides, because he is abroad and all this world\\n'gainst their sickness of your instruction, but\\nslay mack'd thy meaning, to this presumption may's\\nhabit at 's made. How now! why?\\n\\nCATELBY:\\nBy distands, mank'd you that face of her joy?\\n\\nBIONDELLO:\\nCaTillate, raised!\\n\\nROMEO:\\nWhither?\\n\\nFLORIZEL:\\nDeposed\\nYour honour for himself to seeming in\\nThe head to answer the anticoner\\nOf great heart's paper, to stand and a soldier.\\nThis dead hath neither my deserting peace,\\nProud man, perform and quiel to solicion.\\n\\nAUTOLYCUS:\\nWhy do you wonder?\\n\\nSSABUSTIAN:\\nAy, sirrah, prespect your worship will revenge his dorest:\\nThy found he sends you for her breathes? or ever him my mother!\\n\\nJULIET:\\n\\nHARTINGS:\\nIf so I perceive you not poison, to the less,\\nThat hard in happy mortal subject,\\nThat that I set both winds wrought by ours\\nTo nothing but byought before yo\"\n",
            " b\"ROMEO:\\nThe adarts composition; look haste thee there\\nAnd small with her tongue-\\nKing Henry, gentle and fathing on\\nThe happy ears a Jorw and honour,\\nMeaning to sound and quietly sends as sugges, that froad\\nWhich censures your instrunctions, to myself\\nI have resounded; we hear not\\nCommit them with riace. But I,\\nBut kind and unastiness good, because\\nI lay, my lord; and so be allased\\nWould have her daughter's heirs.\\n\\nMENENIUS:\\nDown, love, sir, we will unto your lordship.\\n\\nESCALUS:\\nI mistrust to serve you know and dull toward the neck, which I have many\\ndays committed to him.\\n\\nBUCKINCHIO:\\nAm come from Sebul haste, come; you have laid upon my head.\\nYet joyful on thy man,--\\n\\nLUCIO:\\nWhy, then he's ill plube, or else for ever\\nman from France; why he did scorn himself am not\\nTo our equal fit forth of my tongue.\\nThink he is coming? Who, on Oxf Lord, why, my lord?\\n\\nDUKE VINCENTIO:\\nThat's some odd husband! I would be thursted to\\nhim.\\n\\nCitizens:\\nIt was a single thing I want it gone,\\nAnd serve as quince sa\"\n",
            " b\"ROMEO:\\nGood madam, he is of his enemies\\nTo trust to our grost rote on him.\\n\\nJULIET:\\nThat we will hear no more of thine.\\n\\nDUCHESS OF YORK:\\nI wonder for queen, wilting two our hars\\ndistray'd here in their sudden teeth remembering wronged.\\nMaster, fair Bohemia, wretchesbury,\\nAnd yet in wart's blush; and having now changed\\nWithout desire. What, he is dead that kill'd him, be advised\\nAnd passes her worthy men entreaten.\\n\\nROMEO:\\nCome, is a quarrel to the trial! if they fave the\\nsea, brave Soliednis, and be revenged on me,\\nWhile store hasting highs flouing that\\nWhich yet abroad to thee I am.\\nMy heart were flow to have lies 'good Lord of Whence,\\nLet them have told this wail the weeds are headry.\\nThe war, come to your tribes, and good worse you;\\nYou have a husband and as he deliver'd,\\nScorling their worth of RaTraleable at any harm.\\n\\nGREY:\\nThe princess be the fairest hath got a traitor\\nWhich a duty more misting ear hishear:\\nI have borne so menry on thee;\\nAnd call't not proclaim'd: be gone.\\nLook you s\"], shape=(5,), dtype=string) \n",
            "\n",
            "________________________________________________________________________________\n",
            "\n",
            "Run time: 3.3949122428894043\n"
          ]
        }
      ]
    },
    {
      "cell_type": "markdown",
      "source": [
        "**Ekspor Model Generator**"
      ],
      "metadata": {
        "id": "W1lGuA9L35lm"
      }
    },
    {
      "cell_type": "markdown",
      "source": [
        "*Model satu langkah ini dapat dengan mudah disimpan dan digunakan kembali, memungkinkan Anda menggunakannya di mana pun tf.saved_model diterima.*"
      ],
      "metadata": {
        "id": "wFijK66s37pT"
      }
    },
    {
      "cell_type": "code",
      "source": [
        "tf.saved_model.save(one_step_model, 'one_step')\n",
        "one_step_reloaded = tf.saved_model.load('one_step')"
      ],
      "metadata": {
        "id": "KmDUGhWG39rf",
        "outputId": "3d59b10e-91bb-4950-b8fe-e71e51c5bcb9",
        "colab": {
          "base_uri": "https://localhost:8080/"
        }
      },
      "execution_count": 67,
      "outputs": [
        {
          "output_type": "stream",
          "name": "stderr",
          "text": [
            "WARNING:tensorflow:Skipping full serialization of Keras layer <__main__.OneStep object at 0x7f1ede0e9e40>, because it is not built.\n",
            "WARNING:tensorflow:Model's `__init__()` arguments contain non-serializable objects. Please implement a `get_config()` method in the subclassed Model for proper saving and loading. Defaulting to empty config.\n",
            "WARNING:tensorflow:Model's `__init__()` arguments contain non-serializable objects. Please implement a `get_config()` method in the subclassed Model for proper saving and loading. Defaulting to empty config.\n"
          ]
        }
      ]
    },
    {
      "cell_type": "code",
      "source": [
        "states = None\n",
        "next_char = tf.constant(['ROMEO:'])\n",
        "result = [next_char]\n",
        "\n",
        "for n in range(100):\n",
        "  next_char, states = one_step_reloaded.generate_one_step(next_char, states=states)\n",
        "  result.append(next_char)\n",
        "\n",
        "print(tf.strings.join(result)[0].numpy().decode(\"utf-8\"))"
      ],
      "metadata": {
        "id": "6VEG9HT-3_Hh",
        "outputId": "252db465-709f-41c4-b6f4-48cf35e0b0be",
        "colab": {
          "base_uri": "https://localhost:8080/"
        }
      },
      "execution_count": 68,
      "outputs": [
        {
          "output_type": "stream",
          "name": "stdout",
          "text": [
            "ROMEO:\n",
            "Besides, I here protest at.\n",
            "\n",
            "TYBALT:\n",
            "No?\n",
            "\n",
            "MENENIUS:\n",
            "Has deep to Ladyard. You are coming\n",
            "Corting it \n"
          ]
        }
      ]
    }
  ]
}